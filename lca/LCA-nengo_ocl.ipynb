{
 "cells": [
  {
   "cell_type": "code",
   "execution_count": 1,
   "metadata": {},
   "outputs": [],
   "source": [
    "%matplotlib inline\n",
    "import matplotlib.pyplot as plt\n",
    "import numpy as np\n",
    "import nengo\n",
    "import nengo_ocl"
   ]
  },
  {
   "cell_type": "markdown",
   "metadata": {},
   "source": [
    "The residual layer needs a neuron that doesn't do anything at all.  This isn't built in to Nengo, so we'll have to create it.  Since this is pretty much the same as the RectifiedLinear model, but without the rectification, we just subclass that neuron model."
   ]
  },
  {
   "cell_type": "code",
   "execution_count": 2,
   "metadata": {},
   "outputs": [],
   "source": [
    "class Linear(nengo.RectifiedLinear):\n",
    "    def step_math(self, dt, J, output):\n",
    "        output[...] = J"
   ]
  },
  {
   "cell_type": "markdown",
   "metadata": {},
   "source": [
    "But, we also want this to work in `nengo_ocl`.  So, we need to define the OpenCL code that will run this neuron.  The actual C code is below -- it's just `outR = J;` and the rest is the boiler-plate code needed to make it all compile right."
   ]
  },
  {
   "cell_type": "code",
   "execution_count": 3,
   "metadata": {},
   "outputs": [],
   "source": [
    "from nengo_ocl.utils import as_ascii\n",
    "from mako.template import Template   \n",
    "from nengo_ocl.clra_nonlinearities import _plan_template\n",
    "\n",
    "def plan_linear(queue, J, outR, **kwargs):\n",
    "    inputs = dict(J=J)\n",
    "    outputs = dict(outR=outR)\n",
    "    parameters = dict()\n",
    "    textconf = dict(type=J.ctype)\n",
    "\n",
    "    decs = \"\"\"\n",
    "        \"\"\"\n",
    "    text = \"\"\"\n",
    "        outR = J;\n",
    "        \"\"\"\n",
    "    decs = as_ascii(Template(decs, output_encoding='ascii').render(**textconf))\n",
    "    text = as_ascii(Template(text, output_encoding='ascii').render(**textconf))\n",
    "    cl_name = \"cl_linear\"\n",
    "    return _plan_template(\n",
    "        queue, cl_name, text, declares=decs,\n",
    "        inputs=inputs, outputs=outputs, parameters=parameters, **kwargs)    \n"
   ]
  },
  {
   "cell_type": "markdown",
   "metadata": {},
   "source": [
    "Now we make a new neuron model: the (non-spiking) leaky integrator.  We base this on the existing LIF model (since it already has a voltage as an internal state variable)."
   ]
  },
  {
   "cell_type": "code",
   "execution_count": 4,
   "metadata": {},
   "outputs": [],
   "source": [
    "class LeakyIntegrator(nengo.LIF):\n",
    "    threshold = nengo.params.NumberParam('threshold')\n",
    "    \n",
    "    def __init__(self, threshold=0, tau_rc=0.02):\n",
    "        super().__init__(tau_rc=tau_rc, tau_ref=0)\n",
    "        self.threshold = threshold\n",
    "        \n",
    "    def step_math(self, dt, J, output, voltage, refractory_time):\n",
    "        # to map to the paper: output is y, voltage is u, and J is the inputs times the dictionary matrix\n",
    "        \n",
    "        # y = T(u)\n",
    "        output[:] = np.where(voltage>self.threshold, voltage, 0)\n",
    "        \n",
    "        # du/dt = -u + y + phi*r\n",
    "        dv = -voltage + output + J\n",
    "        \n",
    "        # perform the voltage update\n",
    "        voltage += dv*(dt/self.tau_rc)"
   ]
  },
  {
   "cell_type": "markdown",
   "metadata": {},
   "source": [
    "Again, we need to implement an OCL version of this as well"
   ]
  },
  {
   "cell_type": "code",
   "execution_count": 5,
   "metadata": {},
   "outputs": [],
   "source": [
    "def plan_leaky_integrator(queue, dt, J, V, outR, thresh, inv_tau, amp, **kwargs):\n",
    "    assert J.ctype == 'float'\n",
    "    for x in [V, outR]:\n",
    "        assert x.ctype == J.ctype\n",
    "\n",
    "    inputs = dict(J=J, V=V)\n",
    "    outputs = dict(outV=V, outR=outR)\n",
    "    parameters = dict(inv_tau=inv_tau, thresh=thresh, amp=amp)\n",
    "    textconf = dict(type=J.ctype, dt=dt)\n",
    "\n",
    "    decs = \"\"\"\n",
    "        const ${type} dt = ${dt};\n",
    "        \"\"\"\n",
    "    text = \"\"\"\n",
    "        if (V>thresh)\n",
    "            outR = V;\n",
    "        else\n",
    "            outR = 0;\n",
    "        V += (-V+outR+J)*(dt * inv_tau);\n",
    "        outV = V;\n",
    "        \"\"\"\n",
    "    decs = as_ascii(Template(decs, output_encoding='ascii').render(**textconf))\n",
    "    text = as_ascii(Template(text, output_encoding='ascii').render(**textconf))\n",
    "    cl_name = \"cl_leaky_integrator\"\n",
    "    return _plan_template(\n",
    "        queue, cl_name, text, declares=decs,\n",
    "        inputs=inputs, outputs=outputs, parameters=parameters, **kwargs)    \n"
   ]
  },
  {
   "cell_type": "markdown",
   "metadata": {},
   "source": [
    "For the V1->Residual connection, we need a Hebbian learning rule, and for the Residual->V1 connection we need the same rule with a flipped sign on the learning rate.  Since we also want to explore decaying connection weights and other tricks like that, here we define a full learning rule from scratch, implementing it in both `nengo` and `nengo_ocl`."
   ]
  },
  {
   "cell_type": "code",
   "execution_count": 56,
   "metadata": {},
   "outputs": [],
   "source": [
    "class HebbianWithDecay(nengo.learning_rules.LearningRuleType):\n",
    "    modifies = 'weights'\n",
    "    probeable = ('pre_filtered', 'post_filtered', 'delta')\n",
    "    \n",
    "    learning_rate = nengo.params.NumberParam('learning_rate')\n",
    "    pre_synapse = nengo.synapses.SynapseParam('pre_synapse')\n",
    "    post_synapse = nengo.synapses.SynapseParam('post_synapse')\n",
    "\n",
    "    def __init__(self,\n",
    "                 learning_rate=1e-6, \n",
    "                 pre_synapse=None,\n",
    "                 post_synapse=None,\n",
    "                 decay=0.0\n",
    "                ):\n",
    "        super().__init__(learning_rate, size_in=0)\n",
    "        self.decay = decay\n",
    "        self.pre_synapse = pre_synapse\n",
    "        self.post_synapse = post_synapse\n",
    "        \n",
    "from nengo.builder.learning_rules import get_pre_ens, get_post_ens, build_or_passthrough\n",
    "\n",
    "class SimHebbianWithDecay(nengo.builder.Operator):\n",
    "    def __init__(self, pre_filtered, post_filtered, weights, delta,\n",
    "                 learning_rate, decay, tag=None):\n",
    "        super().__init__(tag=tag)\n",
    "        self.learning_rate = learning_rate\n",
    "        self.decay = decay\n",
    "\n",
    "        self.sets = []\n",
    "        self.incs = []\n",
    "        self.reads = [pre_filtered, post_filtered, weights]\n",
    "        self.updates = [delta]\n",
    "\n",
    "    @property\n",
    "    def delta(self):\n",
    "        return self.updates[0]\n",
    "\n",
    "    @property\n",
    "    def pre_filtered(self):\n",
    "        return self.reads[0]\n",
    "\n",
    "    @property\n",
    "    def post_filtered(self):\n",
    "        return self.reads[1]\n",
    "\n",
    "    @property\n",
    "    def weights(self):\n",
    "        return self.reads[2]\n",
    "\n",
    "    def _descstr(self):\n",
    "        return 'pre=%s, post=%s -> %s' % (\n",
    "            self.pre_filtered, self.post_filtered, self.delta)\n",
    "\n",
    "    def make_step(self, signals, dt, rng):\n",
    "        weights = signals[self.weights]\n",
    "        pre_filtered = signals[self.pre_filtered]\n",
    "        post_filtered = signals[self.post_filtered]\n",
    "        delta = signals[self.delta]\n",
    "        alpha = self.learning_rate * dt\n",
    "        decay = self.decay\n",
    "\n",
    "        def step_simheb():\n",
    "            # perform forgetting\n",
    "            delta[...] = -decay * weights\n",
    "\n",
    "            # perform update\n",
    "            delta[...] += np.outer(alpha * post_filtered, pre_filtered)\n",
    "\n",
    "        return step_simheb   \n",
    "\n",
    "\n",
    "@nengo.builder.Builder.register(HebbianWithDecay)\n",
    "def build_hebbian_decay(model, heb, rule):\n",
    "    conn = rule.connection\n",
    "    pre_activities = model.sig[get_pre_ens(conn).neurons]['out']\n",
    "    post_activities = model.sig[get_post_ens(conn).neurons]['out']\n",
    "    pre_filtered = build_or_passthrough(model, heb.pre_synapse, pre_activities)\n",
    "    post_filtered = build_or_passthrough(model, heb.post_synapse, post_activities)\n",
    "\n",
    "    model.add_op(SimHebbianWithDecay(pre_filtered,\n",
    "                        post_filtered,\n",
    "                        model.sig[conn]['weights'],\n",
    "                        model.sig[rule]['delta'],\n",
    "                        learning_rate=heb.learning_rate,\n",
    "                        decay=heb.decay))\n",
    "\n",
    "    # expose these for probes\n",
    "    model.sig[rule]['pre_filtered'] = pre_filtered\n",
    "    model.sig[rule]['post_filtered'] = post_filtered\n",
    "    \n",
    "    \n",
    "# And now the nengo_ocl version    \n",
    "import pyopencl as cl    \n",
    "from nengo_ocl.plan import Plan\n",
    "def plan_hebbian_with_decay(queue, pre, post, weights, delta, alpha, decay, tag=None):\n",
    "    assert (len(pre) == len(post) == len(weights) == len(delta) ==\n",
    "            alpha.size == decay.size)\n",
    "    N = len(pre)\n",
    "\n",
    "    for arr in (pre, post):  # vectors\n",
    "        assert (arr.shape1s == 1).all()\n",
    "    for arr in (delta, weights):  # matrices\n",
    "        assert (arr.stride1s == 1).all()\n",
    "\n",
    "    assert (post.shape0s == weights.shape0s).all()\n",
    "    assert (pre.shape0s == weights.shape1s).all()\n",
    "    assert (weights.shape0s == delta.shape0s).all()\n",
    "    assert (weights.shape1s == delta.shape1s).all()\n",
    "\n",
    "    assert (pre.ctype == post.ctype == weights.ctype == delta.ctype ==\n",
    "            alpha.ctype == decay.ctype)\n",
    "\n",
    "    text = \"\"\"\n",
    "    __kernel void heb(\n",
    "        __global const int *shape0s,\n",
    "        __global const int *shape1s,\n",
    "        __global const int *pre_stride0s,\n",
    "        __global const int *pre_starts,\n",
    "        __global const ${type} *pre_data,\n",
    "        __global const int *post_stride0s,\n",
    "        __global const int *post_starts,\n",
    "        __global const ${type} *post_data,\n",
    "        __global const int *weights_stride0s,\n",
    "        __global const int *weights_starts,\n",
    "        __global const ${type} *weights_data,\n",
    "        __global const int *delta_stride0s,\n",
    "        __global const int *delta_starts,\n",
    "        __global ${type} *delta_data,\n",
    "        __global const ${type} *alphas,\n",
    "        __global const ${type} *decays\n",
    "    )\n",
    "    {\n",
    "        const int ij = get_global_id(0);\n",
    "        const int k = get_global_id(1);\n",
    "        const int shape0 = shape0s[k];\n",
    "        const int shape1 = shape1s[k];\n",
    "        const int i = ij / shape1;\n",
    "        const int j = ij % shape1;\n",
    "        __global ${type} *delta = delta_data + delta_starts[k];\n",
    "        const ${type} pre = pre_data[pre_starts[k] + j*pre_stride0s[k]];\n",
    "        const ${type} post = post_data[post_starts[k] + i*post_stride0s[k]];\n",
    "        const ${type} weight = weights_data[\n",
    "            weights_starts[k] + i*weights_stride0s[k] + j];\n",
    "        const ${type} alpha = alphas[k];\n",
    "        const ${type} decay = decays[k];\n",
    "        if (i < shape0) {\n",
    "            delta[i*delta_stride0s[k] + j] =\n",
    "                alpha * post * pre - decay * weight;\n",
    "        }\n",
    "    }\n",
    "    \"\"\"\n",
    "\n",
    "    textconf = dict(type=pre.ctype)\n",
    "    text = as_ascii(Template(text, output_encoding='ascii').render(**textconf))\n",
    "\n",
    "    full_args = (\n",
    "        delta.cl_shape0s, delta.cl_shape1s,\n",
    "        pre.cl_stride0s, pre.cl_starts, pre.cl_buf,\n",
    "        post.cl_stride0s, post.cl_starts, post.cl_buf,\n",
    "        weights.cl_stride0s, weights.cl_starts, weights.cl_buf,\n",
    "        delta.cl_stride0s, delta.cl_starts, delta.cl_buf,\n",
    "        alpha, decay,\n",
    "    )\n",
    "    _fn = cl.Program(queue.context, text).build().heb\n",
    "    _fn.set_args(*[arr.data for arr in full_args])\n",
    "\n",
    "    lsize = None\n",
    "    gsize = (delta.sizes.max(), N)\n",
    "    plan = Plan(queue, _fn, gsize, lsize=lsize, name=\"cl_heb\", tag=tag)\n",
    "    plan.full_args = full_args     # prevent garbage-collection\n",
    "    plan.flops_per_call = 6 * delta.sizes.sum()\n",
    "    plan.bw_per_call = (pre.nbytes + post.nbytes + weights.nbytes +\n",
    "                        delta.nbytes + alpha.nbytes + decay.nbytes)\n",
    "    return plan    "
   ]
  },
  {
   "cell_type": "markdown",
   "metadata": {},
   "source": [
    "Now we build our model.  We have three basic \"layers\":  the image, the residual, and v1"
   ]
  },
  {
   "cell_type": "code",
   "execution_count": 57,
   "metadata": {},
   "outputs": [],
   "source": [
    "seed = 10\n",
    "np.random.seed(seed=seed)\n",
    "\n",
    "N = 1000    # size of the input\n",
    "J = 5000    # number of neurons\n",
    "\n",
    "# generate an example image\n",
    "span = np.linspace(0, 1, N)\n",
    "image = (np.sin(2*np.pi*span)+1)/2\n",
    "\n",
    "model = nengo.Network(seed=seed)\n",
    "with model:\n",
    "    # the input, which will be N-dimensional \n",
    "    #  (note that we can replace this with input that changes over time to give a more real-world example)\n",
    "    stim = nengo.Node(image)\n",
    "    \n",
    "    # for the residual, we use N neurons which are ReLU neurons with a threshold of -infinity.  That is, \n",
    "    # there is no nonlinearity here at all.\n",
    "    residual = nengo.Ensemble(n_neurons=N, dimensions=1,\n",
    "                          neuron_type=Linear(),\n",
    "                          gain=nengo.dists.Choice([1]),\n",
    "                          bias=nengo.dists.Choice([0]))\n",
    "    \n",
    "    v1 = nengo.Ensemble(n_neurons=J, dimensions=1,\n",
    "                          neuron_type=LeakyIntegrator(threshold=0.1, tau_rc=0.001),\n",
    "                          gain=nengo.dists.Choice([1]),\n",
    "                          bias=nengo.dists.Choice([0]))\n",
    "\n",
    "    # the initial dictionary\n",
    "    w = np.random.uniform(-0.01, 0.01, (J, N))\n",
    "    \n",
    "    # now we make the learning connections.  Nengo has Oja built in, which is Hebbian with a \n",
    "    # stabilizing factor.  We can set beta=0 to get rid of that factor, to make it just Hebbian.\n",
    "    learning_rate=1e-1\n",
    "        \n",
    "    tau = 0        # low-pass filter to use when using the w matrix\n",
    "    tau_learn = 0  # low-pass filter to use when computing the Hebbian update\n",
    "        \n",
    "    c1 = nengo.Connection(residual.neurons, v1.neurons, transform=w, synapse=tau,\n",
    "                     learning_rule_type=HebbianWithDecay(decay=0, pre_synapse=tau_learn, post_synapse=tau_learn, learning_rate=learning_rate))\n",
    "        \n",
    "    c2 = nengo.Connection(v1.neurons, residual.neurons, transform=-w.T, synapse=tau,\n",
    "                     learning_rule_type=HebbianWithDecay(decay=0, pre_synapse=tau_learn, post_synapse=tau_learn, learning_rate=-learning_rate))\n",
    "    \n",
    "    # subtract the reconstruction from the stim to get the residual layer\n",
    "    nengo.Connection(stim, residual.neurons, synapse=0)\n",
    "    \n",
    "    # record data from each layer, but only every 10ms just to keep the size of the matrices down\n",
    "    p_v1 = nengo.Probe(v1.neurons, sample_every=0.01)\n",
    "    p_res = nengo.Probe(residual.neurons, sample_every=0.01)\n",
    "    p_c1 = nengo.Probe(c1, 'weights', sample_every=0.01)\n",
    "    \n",
    "    \n",
    "    \n",
    "                        "
   ]
  },
  {
   "cell_type": "markdown",
   "metadata": {},
   "source": [
    "Let's run it in normal nengo"
   ]
  },
  {
   "cell_type": "code",
   "execution_count": 63,
   "metadata": {},
   "outputs": [
    {
     "data": {
      "application/vdom.v1+json": {
       "attributes": {},
       "tagName": "div"
      },
      "text/html": [
       "\n",
       "                <script>\n",
       "                    if (Jupyter.version.split(\".\")[0] < 5) {\n",
       "                        var pb = document.getElementById(\"2ac9f28a-0364-44a4-9b07-fc101b9331c1\");\n",
       "                        var text = document.createTextNode(\n",
       "                            \"HMTL progress bar requires Jupyter Notebook >= \" +\n",
       "                            \"5.0 or Jupyter Lab. Alternatively, you can use \" +\n",
       "                            \"TerminalProgressBar().\");\n",
       "                        pb.parentNode.insertBefore(text, pb);\n",
       "                    }\n",
       "                </script>\n",
       "                <div id=\"2ac9f28a-0364-44a4-9b07-fc101b9331c1\" style=\"\n",
       "                    width: 100%;\n",
       "                    border: 1px solid #cfcfcf;\n",
       "                    border-radius: 4px;\n",
       "                    text-align: center;\n",
       "                    position: relative;\">\n",
       "                  <div class=\"pb-text\" style=\"\n",
       "                      position: absolute;\n",
       "                      width: 100%;\">\n",
       "                    0%\n",
       "                  </div>\n",
       "                  <div class=\"pb-fill\" style=\"\n",
       "                      background-color: #bdd2e6;\n",
       "                      width: 0%;\">\n",
       "                    <style type=\"text/css\" scoped=\"scoped\">\n",
       "                        @keyframes pb-fill-anim {\n",
       "                            0% { background-position: 0 0; }\n",
       "                            100% { background-position: 100px 0; }\n",
       "                        }\n",
       "                    </style>\n",
       "                    &nbsp;\n",
       "                  </div>\n",
       "                </div>"
      ],
      "text/plain": [
       "HtmlProgressBar cannot be displayed. Please use the TerminalProgressBar. It can be enabled with `nengo.rc.set('progress', 'progress_bar', 'nengo.utils.progress.TerminalProgressBar')`."
      ]
     },
     "metadata": {},
     "output_type": "display_data"
    },
    {
     "data": {
      "application/javascript": [
       "\n",
       "              (function () {\n",
       "                  var root = document.getElementById('2ac9f28a-0364-44a4-9b07-fc101b9331c1');\n",
       "                  var text = root.getElementsByClassName('pb-text')[0];\n",
       "                  var fill = root.getElementsByClassName('pb-fill')[0];\n",
       "\n",
       "                  text.innerHTML = 'Build finished in 0:00:01.';\n",
       "                  \n",
       "            fill.style.width = '100%';\n",
       "            fill.style.animation = 'pb-fill-anim 2s linear infinite';\n",
       "            fill.style.backgroundSize = '100px 100%';\n",
       "            fill.style.backgroundImage = 'repeating-linear-gradient(' +\n",
       "                '90deg, #bdd2e6, #edf2f8 40%, #bdd2e6 80%, #bdd2e6)';\n",
       "        \n",
       "                  \n",
       "                fill.style.animation = 'none';\n",
       "                fill.style.backgroundImage = 'none';\n",
       "            \n",
       "              })();\n",
       "        "
      ],
      "application/vdom.v1+json": {
       "attributes": {
        "id": "de431af1-6c34-4577-a4fa-6024c5463cf6",
        "style": {
         "border": "1px solid #cfcfcf",
         "borderRadius": "4px",
         "boxSizing": "border-box",
         "position": "relative",
         "textAlign": "center",
         "width": "100%"
        }
       },
       "children": [
        {
         "attributes": {
          "class": "pb-text",
          "style": {
           "position": "absolute",
           "width": "100%"
          }
         },
         "children": [
          "Build finished in 0:00:01."
         ],
         "tagName": "div"
        },
        {
         "attributes": {
          "class": "pb-fill",
          "style": {
           "animation": "none",
           "backgroundColor": "#bdd2e6",
           "backgroundImage": "none",
           "backgroundSize": "100px 100%",
           "width": "100%"
          }
         },
         "children": [
          {
           "attributes": {
            "scoped": "scoped",
            "type": "text/css"
           },
           "children": [
            "\n                        @keyframes pb-fill-anim {\n                            0% { background-position: 0 0; }\n                            100% { background-position: 100px 0; }\n                        }}"
           ],
           "tagName": "style"
          },
          " "
         ],
         "tagName": "div"
        }
       ],
       "tagName": "div"
      }
     },
     "metadata": {},
     "output_type": "display_data"
    },
    {
     "data": {
      "application/vdom.v1+json": {
       "attributes": {},
       "tagName": "div"
      },
      "text/html": [
       "\n",
       "                <script>\n",
       "                    if (Jupyter.version.split(\".\")[0] < 5) {\n",
       "                        var pb = document.getElementById(\"430064d8-35df-4f47-a550-06fc14ca239b\");\n",
       "                        var text = document.createTextNode(\n",
       "                            \"HMTL progress bar requires Jupyter Notebook >= \" +\n",
       "                            \"5.0 or Jupyter Lab. Alternatively, you can use \" +\n",
       "                            \"TerminalProgressBar().\");\n",
       "                        pb.parentNode.insertBefore(text, pb);\n",
       "                    }\n",
       "                </script>\n",
       "                <div id=\"430064d8-35df-4f47-a550-06fc14ca239b\" style=\"\n",
       "                    width: 100%;\n",
       "                    border: 1px solid #cfcfcf;\n",
       "                    border-radius: 4px;\n",
       "                    text-align: center;\n",
       "                    position: relative;\">\n",
       "                  <div class=\"pb-text\" style=\"\n",
       "                      position: absolute;\n",
       "                      width: 100%;\">\n",
       "                    0%\n",
       "                  </div>\n",
       "                  <div class=\"pb-fill\" style=\"\n",
       "                      background-color: #bdd2e6;\n",
       "                      width: 0%;\">\n",
       "                    <style type=\"text/css\" scoped=\"scoped\">\n",
       "                        @keyframes pb-fill-anim {\n",
       "                            0% { background-position: 0 0; }\n",
       "                            100% { background-position: 100px 0; }\n",
       "                        }\n",
       "                    </style>\n",
       "                    &nbsp;\n",
       "                  </div>\n",
       "                </div>"
      ],
      "text/plain": [
       "HtmlProgressBar cannot be displayed. Please use the TerminalProgressBar. It can be enabled with `nengo.rc.set('progress', 'progress_bar', 'nengo.utils.progress.TerminalProgressBar')`."
      ]
     },
     "metadata": {},
     "output_type": "display_data"
    },
    {
     "data": {
      "application/javascript": [
       "\n",
       "              (function () {\n",
       "                  var root = document.getElementById('430064d8-35df-4f47-a550-06fc14ca239b');\n",
       "                  var text = root.getElementsByClassName('pb-text')[0];\n",
       "                  var fill = root.getElementsByClassName('pb-fill')[0];\n",
       "\n",
       "                  text.innerHTML = 'Simulation finished in 0:01:19.';\n",
       "                  \n",
       "            if (100.0 > 0.) {\n",
       "                fill.style.transition = 'width 0.1s linear';\n",
       "            } else {\n",
       "                fill.style.transition = 'none';\n",
       "            }\n",
       "\n",
       "            fill.style.width = '100.0%';\n",
       "            fill.style.animation = 'none';\n",
       "            fill.style.backgroundImage = 'none'\n",
       "        \n",
       "                  \n",
       "                fill.style.animation = 'none';\n",
       "                fill.style.backgroundImage = 'none';\n",
       "            \n",
       "              })();\n",
       "        "
      ],
      "application/vdom.v1+json": {
       "attributes": {
        "id": "2bcd70fc-a732-4cac-ac24-6d391fd77a58",
        "style": {
         "border": "1px solid #cfcfcf",
         "borderRadius": "4px",
         "boxSizing": "border-box",
         "position": "relative",
         "textAlign": "center",
         "width": "100%"
        }
       },
       "children": [
        {
         "attributes": {
          "class": "pb-text",
          "style": {
           "position": "absolute",
           "width": "100%"
          }
         },
         "children": [
          "Simulation finished in 0:01:19."
         ],
         "tagName": "div"
        },
        {
         "attributes": {
          "class": "pb-fill",
          "style": {
           "animation": "none",
           "backgroundColor": "#bdd2e6",
           "backgroundImage": "none",
           "transition": "width 0.1s linear",
           "width": "100%"
          }
         },
         "children": [
          {
           "attributes": {
            "scoped": "scoped",
            "type": "text/css"
           },
           "children": [
            "\n                        @keyframes pb-fill-anim {\n                            0% { background-position: 0 0; }\n                            100% { background-position: 100px 0; }\n                        }}"
           ],
           "tagName": "style"
          },
          " "
         ],
         "tagName": "div"
        }
       ],
       "tagName": "div"
      }
     },
     "metadata": {},
     "output_type": "display_data"
    }
   ],
   "source": [
    "sim = nengo.Simulator(model)\n",
    "with sim:\n",
    "    sim.run(0.5)"
   ]
  },
  {
   "cell_type": "markdown",
   "metadata": {},
   "source": [
    "Now let's run it with `nengo_ocl`.  To do this, we need to tell `nengo_ocl` about the new neuron models we've defined.  We do that by subclassing `nengo_ocl.Simulator` and adding in some code that grabs data out of the nengo objects and feeds it into the code we defined above."
   ]
  },
  {
   "cell_type": "code",
   "execution_count": 58,
   "metadata": {},
   "outputs": [
    {
     "data": {
      "application/vdom.v1+json": {
       "attributes": {},
       "tagName": "div"
      },
      "text/html": [
       "\n",
       "                <script>\n",
       "                    if (Jupyter.version.split(\".\")[0] < 5) {\n",
       "                        var pb = document.getElementById(\"3274381d-94bf-471f-b156-b991e668c695\");\n",
       "                        var text = document.createTextNode(\n",
       "                            \"HMTL progress bar requires Jupyter Notebook >= \" +\n",
       "                            \"5.0 or Jupyter Lab. Alternatively, you can use \" +\n",
       "                            \"TerminalProgressBar().\");\n",
       "                        pb.parentNode.insertBefore(text, pb);\n",
       "                    }\n",
       "                </script>\n",
       "                <div id=\"3274381d-94bf-471f-b156-b991e668c695\" style=\"\n",
       "                    width: 100%;\n",
       "                    border: 1px solid #cfcfcf;\n",
       "                    border-radius: 4px;\n",
       "                    text-align: center;\n",
       "                    position: relative;\">\n",
       "                  <div class=\"pb-text\" style=\"\n",
       "                      position: absolute;\n",
       "                      width: 100%;\">\n",
       "                    0%\n",
       "                  </div>\n",
       "                  <div class=\"pb-fill\" style=\"\n",
       "                      background-color: #bdd2e6;\n",
       "                      width: 0%;\">\n",
       "                    <style type=\"text/css\" scoped=\"scoped\">\n",
       "                        @keyframes pb-fill-anim {\n",
       "                            0% { background-position: 0 0; }\n",
       "                            100% { background-position: 100px 0; }\n",
       "                        }\n",
       "                    </style>\n",
       "                    &nbsp;\n",
       "                  </div>\n",
       "                </div>"
      ],
      "text/plain": [
       "HtmlProgressBar cannot be displayed. Please use the TerminalProgressBar. It can be enabled with `nengo.rc.set('progress', 'progress_bar', 'nengo.utils.progress.TerminalProgressBar')`."
      ]
     },
     "metadata": {},
     "output_type": "display_data"
    },
    {
     "data": {
      "application/javascript": [
       "\n",
       "              (function () {\n",
       "                  var root = document.getElementById('3274381d-94bf-471f-b156-b991e668c695');\n",
       "                  var text = root.getElementsByClassName('pb-text')[0];\n",
       "                  var fill = root.getElementsByClassName('pb-fill')[0];\n",
       "\n",
       "                  text.innerHTML = 'Simulation finished in 0:00:07.';\n",
       "                  \n",
       "            if (100.0 > 0.) {\n",
       "                fill.style.transition = 'width 0.1s linear';\n",
       "            } else {\n",
       "                fill.style.transition = 'none';\n",
       "            }\n",
       "\n",
       "            fill.style.width = '100.0%';\n",
       "            fill.style.animation = 'none';\n",
       "            fill.style.backgroundImage = 'none'\n",
       "        \n",
       "                  \n",
       "                fill.style.animation = 'none';\n",
       "                fill.style.backgroundImage = 'none';\n",
       "            \n",
       "              })();\n",
       "        "
      ],
      "application/vdom.v1+json": {
       "attributes": {
        "id": "d5c60f7f-0778-4505-95d2-6ef7d94c8ac9",
        "style": {
         "border": "1px solid #cfcfcf",
         "borderRadius": "4px",
         "boxSizing": "border-box",
         "position": "relative",
         "textAlign": "center",
         "width": "100%"
        }
       },
       "children": [
        {
         "attributes": {
          "class": "pb-text",
          "style": {
           "position": "absolute",
           "width": "100%"
          }
         },
         "children": [
          "Simulation finished in 0:00:07."
         ],
         "tagName": "div"
        },
        {
         "attributes": {
          "class": "pb-fill",
          "style": {
           "animation": "none",
           "backgroundColor": "#bdd2e6",
           "backgroundImage": "none",
           "transition": "width 0.1s linear",
           "width": "100%"
          }
         },
         "children": [
          {
           "attributes": {
            "scoped": "scoped",
            "type": "text/css"
           },
           "children": [
            "\n                        @keyframes pb-fill-anim {\n                            0% { background-position: 0 0; }\n                            100% { background-position: 100px 0; }\n                        }}"
           ],
           "tagName": "style"
          },
          " "
         ],
         "tagName": "div"
        }
       ],
       "tagName": "div"
      }
     },
     "metadata": {},
     "output_type": "display_data"
    }
   ],
   "source": [
    "\n",
    "class LCASimulator(nengo_ocl.Simulator):\n",
    "    def _plan_LeakyIntegrator(self, ops):\n",
    "        dt = self.model.dt\n",
    "        J = self.all_data[[self.sidx[op.J] for op in ops]]\n",
    "        V = self.all_data[[self.sidx[op.states[0]] for op in ops]]\n",
    "        R = self.all_data[[self.sidx[op.output] for op in ops]]\n",
    "        thresh = self.RaggedArray([op.neurons.threshold * np.ones(op.J.size)\n",
    "                                   for op in ops], dtype=J.dtype)\n",
    "        inv_tau = self.RaggedArray([(1/op.neurons.tau_rc) * np.ones(op.J.size)\n",
    "                                for op in ops], dtype=J.dtype)\n",
    "        amp = self.RaggedArray([op.neurons.amplitude * np.ones(op.J.size)\n",
    "                                for op in ops], dtype=J.dtype)\n",
    "        return [plan_leaky_integrator(self.queue, dt, J, V, R, thresh, inv_tau, amp)]\n",
    "    def _plan_Linear(self, ops):\n",
    "        J = self.all_data[[self.sidx[op.J] for op in ops]]\n",
    "        R = self.all_data[[self.sidx[op.output] for op in ops]]\n",
    "        return [plan_linear(self.queue, J, R)]\n",
    "    \n",
    "    def plan_SimHebbianWithDecay(self, ops):\n",
    "        pre = self.all_data[[self.sidx[op.pre_filtered] for op in ops]]\n",
    "        post = self.all_data[[self.sidx[op.post_filtered] for op in ops]]\n",
    "        weights = self.all_data[[self.sidx[op.weights] for op in ops]]\n",
    "        delta = self.all_data[[self.sidx[op.delta] for op in ops]]\n",
    "        alpha = self.Array([op.learning_rate * self.model.dt for op in ops])\n",
    "        decay = self.Array([op.decay for op in ops])\n",
    "        return [plan_hebbian_with_decay(self.queue, pre, post, weights, delta, alpha, decay)]\n",
    "\n",
    "        \n",
    "    \n",
    "sim = LCASimulator(model)\n",
    "with sim:\n",
    "    sim.run(0.5)\n"
   ]
  },
  {
   "cell_type": "markdown",
   "metadata": {},
   "source": [
    "Well that's a lot faster.  :)\n",
    "\n"
   ]
  },
  {
   "cell_type": "code",
   "execution_count": 59,
   "metadata": {},
   "outputs": [
    {
     "data": {
      "image/png": "[encoded data removed]",
      "text/plain": [
       "<Figure size 432x288 with 1 Axes>"
      ]
     },
     "metadata": {
      "needs_background": "light"
     },
     "output_type": "display_data"
    }
   ],
   "source": [
    "plt.plot(sim.trange(dt=0.01), sim.data[p_v1])\n",
    "plt.title('activity of V1 neurons')\n",
    "plt.show()"
   ]
  },
  {
   "cell_type": "markdown",
   "metadata": {},
   "source": [
    "Now what does the reconstruction look like?"
   ]
  },
  {
   "cell_type": "code",
   "execution_count": 60,
   "metadata": {},
   "outputs": [
    {
     "data": {
      "image/png": "[encoded data removed]",
      "text/plain": [
       "<Figure size 432x288 with 2 Axes>"
      ]
     },
     "metadata": {
      "needs_background": "light"
     },
     "output_type": "display_data"
    },
    {
     "data": {
      "image/png": "[encoded data removed]",
      "text/plain": [
       "<Figure size 432x288 with 1 Axes>"
      ]
     },
     "metadata": {
      "needs_background": "light"
     },
     "output_type": "display_data"
    }
   ],
   "source": [
    "w = sim.data[p_c1]    # the weight matrix at each point in time\n",
    "v1 = sim.data[p_v1]   # the activity of V1 over time\n",
    "\n",
    "\n",
    "\n",
    "recon = np.zeros((w.shape[0], w.shape[2]))\n",
    "for i in range(w.shape[0]):\n",
    "    recon[i] = np.dot(v1[i], w[i])\n",
    "# TODO: figure out a nicer way to do the above math in numpy    \n",
    "    \n",
    "plt.imshow(recon, aspect='auto')\n",
    "plt.ylabel('time step')\n",
    "plt.title('reconstruction')\n",
    "plt.colorbar()\n",
    "plt.figure()\n",
    "plt.plot(image, label='original')\n",
    "plt.plot(recon[-1], label='final reconstruction')\n",
    "plt.legend()\n",
    "plt.show()"
   ]
  },
  {
   "cell_type": "markdown",
   "metadata": {},
   "source": [
    "And here's the residual layer"
   ]
  },
  {
   "cell_type": "code",
   "execution_count": 61,
   "metadata": {},
   "outputs": [
    {
     "data": {
      "text/plain": [
       "<matplotlib.colorbar.Colorbar at 0x7f3206297c88>"
      ]
     },
     "execution_count": 61,
     "metadata": {},
     "output_type": "execute_result"
    },
    {
     "data": {
      "image/png": "[encoded data removed]",
      "text/plain": [
       "<Figure size 432x288 with 2 Axes>"
      ]
     },
     "metadata": {
      "needs_background": "light"
     },
     "output_type": "display_data"
    }
   ],
   "source": [
    "plt.imshow(sim.data[p_res][:,:], aspect='auto')\n",
    "plt.title('residual')\n",
    "plt.colorbar()\n"
   ]
  },
  {
   "cell_type": "markdown",
   "metadata": {},
   "source": [
    "And the activity of the V1 layer (to show it's sparse)"
   ]
  },
  {
   "cell_type": "code",
   "execution_count": 62,
   "metadata": {},
   "outputs": [
    {
     "data": {
      "image/png": "[encoded data removed]",
      "text/plain": [
       "<Figure size 1440x288 with 2 Axes>"
      ]
     },
     "metadata": {
      "needs_background": "light"
     },
     "output_type": "display_data"
    }
   ],
   "source": [
    "plt.figure(figsize=(20,4))\n",
    "plt.imshow(sim.data[p_v1], aspect='auto', interpolation='bilinear')\n",
    "plt.colorbar()\n",
    "plt.title('V1')\n",
    "plt.show()"
   ]
  },
  {
   "cell_type": "code",
   "execution_count": null,
   "metadata": {
    "collapsed": true
   },
   "outputs": [],
   "source": []
  }
 ],
 "metadata": {
  "kernelspec": {
   "display_name": "Python 3",
   "language": "python",
   "name": "python3"
  },
  "language_info": {
   "codemirror_mode": {
    "name": "ipython",
    "version": 3
   },
   "file_extension": ".py",
   "mimetype": "text/x-python",
   "name": "python",
   "nbconvert_exporter": "python",
   "pygments_lexer": "ipython3",
   "version": "3.6.7"
  }
 },
 "nbformat": 4,
 "nbformat_minor": 2
}
