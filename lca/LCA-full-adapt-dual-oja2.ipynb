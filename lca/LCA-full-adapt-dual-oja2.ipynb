{
 "cells": [
  {
   "cell_type": "code",
   "execution_count": 2,
   "metadata": {
    "collapsed": true
   },
   "outputs": [],
   "source": [
    "%matplotlib inline\n",
    "import matplotlib.pyplot as plt\n",
    "import numpy as np\n",
    "import nengo"
   ]
  },
  {
   "cell_type": "markdown",
   "metadata": {},
   "source": [
    "First, we need to add a new neuron model to nengo.  It has a RectifiedLinear neuron already, but it doesn't have an option to set a threshold.  So here we just subclass that model and create that parameter.\n",
    "\n",
    "Note that we could also do something similar to set a maximum output for the ReLU as well."
   ]
  },
  {
   "cell_type": "code",
   "execution_count": 3,
   "metadata": {
    "collapsed": true
   },
   "outputs": [],
   "source": [
    "class RectifiedLinearWithThreshold(nengo.RectifiedLinear):\n",
    "    threshold = nengo.params.NumberParam('threshold')\n",
    "\n",
    "    def __init__(self, amplitude=1, threshold=0):\n",
    "        super().__init__(amplitude=amplitude)\n",
    "        self.threshold = threshold\n",
    "\n",
    "    def step_math(self, dt, J, output):\n",
    "        output[...] = self.amplitude * np.where(J>self.threshold, J, 0)\n",
    "        \n"
   ]
  },
  {
   "cell_type": "markdown",
   "metadata": {},
   "source": [
    "Now we make a new neuron model: the (non-spiking) leaky integrator.  We base this on the existing LIF model (since it already has a voltage as an internal state variable)."
   ]
  },
  {
   "cell_type": "code",
   "execution_count": 4,
   "metadata": {
    "collapsed": true
   },
   "outputs": [],
   "source": [
    "class LeakyIntegrator(nengo.LIF):\n",
    "    threshold = nengo.params.NumberParam('threshold')\n",
    "    \n",
    "    def __init__(self, amplitude=1, threshold=0, tau_rc=0.02, min_voltage=0):\n",
    "        super().__init__(amplitude=amplitude, tau_rc=tau_rc, tau_ref=0, min_voltage=min_voltage)\n",
    "        self.threshold = threshold\n",
    "        \n",
    "    def step_math(self, dt, J, output, voltage, refractory_time):\n",
    "        # to map to the paper: output is y, voltage is u, and J is the inputs times the dictionary matrix\n",
    "        \n",
    "        # y = T(u)\n",
    "        output[:] = np.where(voltage>self.threshold, voltage, 0)\n",
    "        \n",
    "        # du/dt = -u + y + phi*r\n",
    "        dv = -voltage + output + J\n",
    "        \n",
    "        # perform the voltage update\n",
    "        voltage += dv*(dt/self.tau_rc)\n",
    "        \n",
    "        # limit the voltage to positive only\n",
    "        voltage[voltage < self.min_voltage] = self.min_voltage"
   ]
  },
  {
   "cell_type": "markdown",
   "metadata": {},
   "source": [
    "For the V1->Residual connection, we need a sign-flipped Oja rule.  This can be done by setting a negative learning rate for the normal Oja rule.  However, nengo currently disallows a negative value for a learning rate.  So, we implement a negative variant of the Oja rule."
   ]
  },
  {
   "cell_type": "code",
   "execution_count": 15,
   "metadata": {},
   "outputs": [],
   "source": [
    "class NegOja(nengo.Oja):\n",
    "    pass\n",
    "\n",
    "from nengo.builder.learning_rules import SimOja, get_pre_ens, get_post_ens, build_or_passthrough\n",
    "\n",
    "@nengo.builder.Builder.register(NegOja)\n",
    "def build_negoja(model, oja, rule):\n",
    "    conn = rule.connection\n",
    "    pre_activities = model.sig[get_pre_ens(conn).neurons]['out']\n",
    "    post_activities = model.sig[get_post_ens(conn).neurons]['out']\n",
    "    pre_filtered = build_or_passthrough(model, oja.pre_synapse, pre_activities)\n",
    "    post_filtered = build_or_passthrough(\n",
    "        model, oja.post_synapse, post_activities)\n",
    "\n",
    "    model.add_op(SimOja(pre_filtered,\n",
    "                        post_filtered,\n",
    "                        model.sig[conn]['weights'],\n",
    "                        model.sig[rule]['delta'],\n",
    "                        learning_rate=-oja.learning_rate,\n",
    "                        beta=oja.beta))\n",
    "\n",
    "    # expose these for probes\n",
    "    model.sig[rule]['pre_filtered'] = pre_filtered\n",
    "    model.sig[rule]['post_filtered'] = post_filtered"
   ]
  },
  {
   "cell_type": "markdown",
   "metadata": {},
   "source": [
    "Now we build our model.  We have three basic \"layers\":  the image, the residual, and v1"
   ]
  },
  {
   "cell_type": "code",
   "execution_count": 16,
   "metadata": {},
   "outputs": [
    {
     "name": "stderr",
     "output_type": "stream",
     "text": [
      "c:\\users\\terry\\documents\\github\\nengo\\nengo\\neurons.py:436: RuntimeWarning: divide by zero encountered in log1p\n",
      "  1.0 / (gain * (intercepts - 1) - 1)))\n"
     ]
    },
    {
     "data": {
      "application/vdom.v1+json": {
       "attributes": {},
       "tagName": "div"
      },
      "text/html": [
       "\n",
       "                <script>\n",
       "                    if (Jupyter.version.split(\".\")[0] < 5) {\n",
       "                        var pb = document.getElementById(\"22299e3d-f730-49de-a204-8eff23ab28dd\");\n",
       "                        var text = document.createTextNode(\n",
       "                            \"HMTL progress bar requires Jupyter Notebook >= \" +\n",
       "                            \"5.0 or Jupyter Lab. Alternatively, you can use \" +\n",
       "                            \"TerminalProgressBar().\");\n",
       "                        pb.parentNode.insertBefore(text, pb);\n",
       "                    }\n",
       "                </script>\n",
       "                <div id=\"22299e3d-f730-49de-a204-8eff23ab28dd\" style=\"\n",
       "                    width: 100%;\n",
       "                    border: 1px solid #cfcfcf;\n",
       "                    border-radius: 4px;\n",
       "                    text-align: center;\n",
       "                    position: relative;\">\n",
       "                  <div class=\"pb-text\" style=\"\n",
       "                      position: absolute;\n",
       "                      width: 100%;\">\n",
       "                    0%\n",
       "                  </div>\n",
       "                  <div class=\"pb-fill\" style=\"\n",
       "                      background-color: #bdd2e6;\n",
       "                      width: 0%;\">\n",
       "                    <style type=\"text/css\" scoped=\"scoped\">\n",
       "                        @keyframes pb-fill-anim {\n",
       "                            0% { background-position: 0 0; }\n",
       "                            100% { background-position: 100px 0; }\n",
       "                        }\n",
       "                    </style>\n",
       "                    &nbsp;\n",
       "                  </div>\n",
       "                </div>"
      ],
      "text/plain": [
       "HtmlProgressBar cannot be displayed. Please use the TerminalProgressBar. It can be enabled with `nengo.rc.set('progress', 'progress_bar', 'nengo.utils.progress.TerminalProgressBar')`."
      ]
     },
     "metadata": {},
     "output_type": "display_data"
    },
    {
     "data": {
      "application/javascript": [
       "\n",
       "              (function () {\n",
       "                  var root = document.getElementById('22299e3d-f730-49de-a204-8eff23ab28dd');\n",
       "                  var text = root.getElementsByClassName('pb-text')[0];\n",
       "                  var fill = root.getElementsByClassName('pb-fill')[0];\n",
       "\n",
       "                  text.innerHTML = 'Build finished in 0:00:01.';\n",
       "                  \n",
       "            fill.style.width = '100%';\n",
       "            fill.style.animation = 'pb-fill-anim 2s linear infinite';\n",
       "            fill.style.backgroundSize = '100px 100%';\n",
       "            fill.style.backgroundImage = 'repeating-linear-gradient(' +\n",
       "                '90deg, #bdd2e6, #edf2f8 40%, #bdd2e6 80%, #bdd2e6)';\n",
       "        \n",
       "                  \n",
       "                fill.style.animation = 'none';\n",
       "                fill.style.backgroundImage = 'none';\n",
       "            \n",
       "              })();\n",
       "        "
      ],
      "application/vdom.v1+json": {
       "attributes": {
        "id": "cf0d4c8c-fcc1-41eb-98da-c43e1f6ef433",
        "style": {
         "border": "1px solid #cfcfcf",
         "borderRadius": "4px",
         "boxSizing": "border-box",
         "position": "relative",
         "textAlign": "center",
         "width": "100%"
        }
       },
       "children": [
        {
         "attributes": {
          "class": "pb-text",
          "style": {
           "position": "absolute",
           "width": "100%"
          }
         },
         "children": [
          "Build finished in 0:00:01."
         ],
         "tagName": "div"
        },
        {
         "attributes": {
          "class": "pb-fill",
          "style": {
           "animation": "none",
           "backgroundColor": "#bdd2e6",
           "backgroundImage": "none",
           "backgroundSize": "100px 100%",
           "width": "100%"
          }
         },
         "children": [
          {
           "attributes": {
            "scoped": "scoped",
            "type": "text/css"
           },
           "children": [
            "\n                        @keyframes pb-fill-anim {\n                            0% { background-position: 0 0; }\n                            100% { background-position: 100px 0; }\n                        }}"
           ],
           "tagName": "style"
          },
          " "
         ],
         "tagName": "div"
        }
       ],
       "tagName": "div"
      }
     },
     "metadata": {},
     "output_type": "display_data"
    },
    {
     "data": {
      "application/vdom.v1+json": {
       "attributes": {},
       "tagName": "div"
      },
      "text/html": [
       "\n",
       "                <script>\n",
       "                    if (Jupyter.version.split(\".\")[0] < 5) {\n",
       "                        var pb = document.getElementById(\"4df52b22-79ed-4ea9-92d2-c821a2d39767\");\n",
       "                        var text = document.createTextNode(\n",
       "                            \"HMTL progress bar requires Jupyter Notebook >= \" +\n",
       "                            \"5.0 or Jupyter Lab. Alternatively, you can use \" +\n",
       "                            \"TerminalProgressBar().\");\n",
       "                        pb.parentNode.insertBefore(text, pb);\n",
       "                    }\n",
       "                </script>\n",
       "                <div id=\"4df52b22-79ed-4ea9-92d2-c821a2d39767\" style=\"\n",
       "                    width: 100%;\n",
       "                    border: 1px solid #cfcfcf;\n",
       "                    border-radius: 4px;\n",
       "                    text-align: center;\n",
       "                    position: relative;\">\n",
       "                  <div class=\"pb-text\" style=\"\n",
       "                      position: absolute;\n",
       "                      width: 100%;\">\n",
       "                    0%\n",
       "                  </div>\n",
       "                  <div class=\"pb-fill\" style=\"\n",
       "                      background-color: #bdd2e6;\n",
       "                      width: 0%;\">\n",
       "                    <style type=\"text/css\" scoped=\"scoped\">\n",
       "                        @keyframes pb-fill-anim {\n",
       "                            0% { background-position: 0 0; }\n",
       "                            100% { background-position: 100px 0; }\n",
       "                        }\n",
       "                    </style>\n",
       "                    &nbsp;\n",
       "                  </div>\n",
       "                </div>"
      ],
      "text/plain": [
       "HtmlProgressBar cannot be displayed. Please use the TerminalProgressBar. It can be enabled with `nengo.rc.set('progress', 'progress_bar', 'nengo.utils.progress.TerminalProgressBar')`."
      ]
     },
     "metadata": {},
     "output_type": "display_data"
    },
    {
     "data": {
      "application/javascript": [
       "\n",
       "              (function () {\n",
       "                  var root = document.getElementById('4df52b22-79ed-4ea9-92d2-c821a2d39767');\n",
       "                  var text = root.getElementsByClassName('pb-text')[0];\n",
       "                  var fill = root.getElementsByClassName('pb-fill')[0];\n",
       "\n",
       "                  text.innerHTML = 'Simulation finished in 0:00:01.';\n",
       "                  \n",
       "            if (100.0 > 0.) {\n",
       "                fill.style.transition = 'width 0.1s linear';\n",
       "            } else {\n",
       "                fill.style.transition = 'none';\n",
       "            }\n",
       "\n",
       "            fill.style.width = '100.0%';\n",
       "            fill.style.animation = 'none';\n",
       "            fill.style.backgroundImage = 'none'\n",
       "        \n",
       "                  \n",
       "                fill.style.animation = 'none';\n",
       "                fill.style.backgroundImage = 'none';\n",
       "            \n",
       "              })();\n",
       "        "
      ],
      "application/vdom.v1+json": {
       "attributes": {
        "id": "563153e9-03b3-438f-ae81-c3f9b733df0a",
        "style": {
         "border": "1px solid #cfcfcf",
         "borderRadius": "4px",
         "boxSizing": "border-box",
         "position": "relative",
         "textAlign": "center",
         "width": "100%"
        }
       },
       "children": [
        {
         "attributes": {
          "class": "pb-text",
          "style": {
           "position": "absolute",
           "width": "100%"
          }
         },
         "children": [
          "Simulation finished in 0:00:01."
         ],
         "tagName": "div"
        },
        {
         "attributes": {
          "class": "pb-fill",
          "style": {
           "animation": "none",
           "backgroundColor": "#bdd2e6",
           "backgroundImage": "none",
           "transition": "width 0.1s linear",
           "width": "100%"
          }
         },
         "children": [
          {
           "attributes": {
            "scoped": "scoped",
            "type": "text/css"
           },
           "children": [
            "\n                        @keyframes pb-fill-anim {\n                            0% { background-position: 0 0; }\n                            100% { background-position: 100px 0; }\n                        }}"
           ],
           "tagName": "style"
          },
          " "
         ],
         "tagName": "div"
        }
       ],
       "tagName": "div"
      }
     },
     "metadata": {},
     "output_type": "display_data"
    }
   ],
   "source": [
    "seed = 10\n",
    "np.random.seed(seed=seed)\n",
    "\n",
    "N = 10    # size of the input\n",
    "J = 50    # number of neurons\n",
    "\n",
    "# generate an example image\n",
    "span = np.linspace(0, 1, N)\n",
    "image = (np.sin(2*np.pi*span)+1)/2\n",
    "\n",
    "model = nengo.Network(seed=seed)\n",
    "with model:\n",
    "    # the input, which will be N-dimensional \n",
    "    #  (note that we can replace this with input that changes over time to give a more real-world example)\n",
    "    stim = nengo.Node(image)\n",
    "    \n",
    "    # for the residual, we use N neurons which are ReLU neurons with a threshold of -infinity.  That is, \n",
    "    # there is no nonlinearity here at all.\n",
    "    residual = nengo.Ensemble(n_neurons=N, dimensions=1,\n",
    "                          neuron_type=RectifiedLinearWithThreshold(threshold=-np.inf),\n",
    "                          gain=nengo.dists.Choice([1]),\n",
    "                          bias=nengo.dists.Choice([0]))\n",
    "    \n",
    "    v1 = nengo.Ensemble(n_neurons=J, dimensions=1,\n",
    "                          neuron_type=LeakyIntegrator(threshold=0.1, tau_rc=0.001),\n",
    "                          gain=nengo.dists.Choice([1]),\n",
    "                          bias=nengo.dists.Choice([0]))\n",
    "\n",
    "    # the initial dictionary\n",
    "    w = np.random.uniform(-0.1, 0.1, (J, N))\n",
    "    \n",
    "    # now we make the learning connections.  Nengo has Oja built in, which is Hebbian with a \n",
    "    # stabilizing factor.  We can set beta=0 to get rid of that factor, to make it just Hebbian.\n",
    "    learning_rate=1e-1\n",
    "        \n",
    "    tau = 0        # low-pass filter to use when using the w matrix\n",
    "    tau_learn = 0  # low-pass filter to use when computing the Hebbian update\n",
    "        \n",
    "    c1 = nengo.Connection(residual.neurons, v1.neurons, transform=w, synapse=tau,\n",
    "                     learning_rule_type=nengo.Oja(beta=0, pre_synapse=tau_learn, post_synapse=tau_learn, learning_rate=learning_rate))\n",
    "        \n",
    "    c2 = nengo.Connection(v1.neurons, residual.neurons, transform=-w.T, synapse=tau,\n",
    "                     learning_rule_type=NegOja(beta=0, pre_synapse=tau_learn, post_synapse=tau_learn, learning_rate=learning_rate))\n",
    "    \n",
    "    # subtract the reconstruction from the stim to get the residual layer\n",
    "    nengo.Connection(stim, residual.neurons, synapse=0)\n",
    "    \n",
    "    # record data from each layer\n",
    "    p_v1 = nengo.Probe(v1.neurons)\n",
    "    p_res = nengo.Probe(residual.neurons)\n",
    "    p_c1 = nengo.Probe(c1, 'weights')\n",
    "    p_c2 = nengo.Probe(c2, 'weights')\n",
    "    \n",
    "    \n",
    "sim = nengo.Simulator(model)\n",
    "sim.run(0.4)\n",
    "                        "
   ]
  },
  {
   "cell_type": "code",
   "execution_count": 17,
   "metadata": {},
   "outputs": [
    {
     "data": {
      "image/png": "[encoded data removed]",
      "text/plain": [
       "<Figure size 432x288 with 1 Axes>"
      ]
     },
     "metadata": {},
     "output_type": "display_data"
    }
   ],
   "source": [
    "plt.plot(sim.trange(), sim.data[p_v1])\n",
    "plt.title('activity of V1 neurons')\n",
    "plt.show()"
   ]
  },
  {
   "cell_type": "markdown",
   "metadata": {},
   "source": [
    "Now what does the reconstruction look like?"
   ]
  },
  {
   "cell_type": "code",
   "execution_count": 18,
   "metadata": {},
   "outputs": [
    {
     "data": {
      "image/png": "[encoded data removed]",
      "text/plain": [
       "<Figure size 432x288 with 2 Axes>"
      ]
     },
     "metadata": {},
     "output_type": "display_data"
    },
    {
     "data": {
      "image/png": "[encoded data removed]",
      "text/plain": [
       "<Figure size 432x288 with 1 Axes>"
      ]
     },
     "metadata": {},
     "output_type": "display_data"
    }
   ],
   "source": [
    "w = sim.data[p_c1]    # the weight matrix at each point in time\n",
    "v1 = sim.data[p_v1]   # the activity of V1 over time\n",
    "\n",
    "\n",
    "\n",
    "recon = np.zeros((w.shape[0], w.shape[2]))\n",
    "for i in range(w.shape[0]):\n",
    "    recon[i] = np.dot(v1[i], w[i])\n",
    "# TODO: figure out a nicer way to do the above math in numpy    \n",
    "    \n",
    "plt.imshow(recon, aspect='auto')\n",
    "plt.ylabel('time step')\n",
    "plt.title('reconstruction')\n",
    "plt.colorbar()\n",
    "plt.figure()\n",
    "plt.plot(image, label='original')\n",
    "plt.plot(recon[-1], label='final reconstruction')\n",
    "plt.legend()\n",
    "plt.show()"
   ]
  },
  {
   "cell_type": "code",
   "execution_count": 19,
   "metadata": {},
   "outputs": [
    {
     "data": {
      "text/plain": [
       "<matplotlib.colorbar.Colorbar at 0x260b2916320>"
      ]
     },
     "execution_count": 19,
     "metadata": {},
     "output_type": "execute_result"
    },
    {
     "data": {
      "image/png": "[encoded data removed]",
      "text/plain": [
       "<Figure size 432x288 with 2 Axes>"
      ]
     },
     "metadata": {},
     "output_type": "display_data"
    }
   ],
   "source": [
    "plt.imshow(sim.data[p_res][:,:], aspect='auto')\n",
    "plt.ylabel('time step')\n",
    "plt.title('residual')\n",
    "plt.colorbar()\n"
   ]
  },
  {
   "cell_type": "code",
   "execution_count": 20,
   "metadata": {},
   "outputs": [
    {
     "data": {
      "image/png": "[encoded data removed]",
      "text/plain": [
       "<Figure size 432x288 with 2 Axes>"
      ]
     },
     "metadata": {},
     "output_type": "display_data"
    }
   ],
   "source": [
    "plt.imshow(sim.data[p_v1], aspect='auto')\n",
    "plt.colorbar()\n",
    "plt.title('V1')\n",
    "plt.show()"
   ]
  },
  {
   "cell_type": "code",
   "execution_count": null,
   "metadata": {
    "collapsed": true
   },
   "outputs": [],
   "source": []
  }
 ],
 "metadata": {
  "kernelspec": {
   "display_name": "Python 3",
   "language": "python",
   "name": "python3"
  },
  "language_info": {
   "codemirror_mode": {
    "name": "ipython",
    "version": 3
   },
   "file_extension": ".py",
   "mimetype": "text/x-python",
   "name": "python",
   "nbconvert_exporter": "python",
   "pygments_lexer": "ipython3",
   "version": "3.6.1"
  }
 },
 "nbformat": 4,
 "nbformat_minor": 2
}
