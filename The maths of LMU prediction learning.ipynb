{
 "cells": [
  {
   "cell_type": "code",
   "execution_count": 1,
   "metadata": {
    "collapsed": true
   },
   "outputs": [],
   "source": [
    "%matplotlib inline\n",
    "import matplotlib.pyplot as plt\n",
    "import numpy as np"
   ]
  },
  {
   "cell_type": "markdown",
   "metadata": {},
   "source": [
    "Variables:\n",
    "\n",
    "- $q$: number of (shifted) Legendre polynomials to use\n",
    "- $\\mathcal{P}_t$: the vector of $q$ (shifted) Legendre polynomials, evaluated at $t$\n",
    "- $M$: a ($q \\times q$) matrix\n",
    "\n",
    "Definition:\n",
    "- Let $C_t = \\mathcal{P}_t \\times \\mathcal{P}_t$ (the $q \\times q$ matrix formed by the outer product of $\\mathcal{P}_t$ with itself)\n",
    "\n",
    "Question:\n",
    "- Is there a nice way to compute the following:\n",
    "  - $\\mathcal{M} = \\int_0^1C_t M C_t dt $\n",
    "  - $\\mathcal{C} = \\int_0^1C_t dt$\n",
    "  \n",
    "  (and yes, these seem like really weird things to want to compute, but they turn out to be useful for learning....)"
   ]
  },
  {
   "cell_type": "markdown",
   "metadata": {},
   "source": [
    "There's a nice closed-form answer for the second of these, but I found it by obervation rather than by solving:"
   ]
  },
  {
   "cell_type": "code",
   "execution_count": 2,
   "metadata": {},
   "outputs": [
    {
     "data": {
      "image/png": "[encoded data removed]",
      "text/plain": [
       "<Figure size 864x432 with 3 Axes>"
      ]
     },
     "metadata": {},
     "output_type": "display_data"
    }
   ],
   "source": [
    "from scipy.special import legendre\n",
    "\n",
    "q = 20\n",
    "n_steps = 100000\n",
    "t = np.linspace(0, 1, n_steps)\n",
    "P = np.asarray([legendre(i)(2*t - 1) for i in range(q)]).T\n",
    "\n",
    "total = np.zeros((q,q))\n",
    "for Pt in P:\n",
    "    Ct = np.outer(Pt, Pt)\n",
    "    total += Ct / n_steps\n",
    "    \n",
    "plt.figure(figsize=(12,6))\n",
    "plt.subplot(1, 2, 1)\n",
    "plt.imshow(total)\n",
    "plt.colorbar()\n",
    "plt.subplot(1, 2, 2)\n",
    "plt.plot(1.0/(1+np.arange(q)*2), c='g', lw=8, ls='--', label='$1/(1+2i)$')\n",
    "plt.plot(np.diag(total), label=r'$\\mathcal{C}[i,i]$', c='k')\n",
    "plt.legend()\n",
    "plt.show()"
   ]
  },
  {
   "cell_type": "markdown",
   "metadata": {},
   "source": [
    "That seems to indicate this identity:\n",
    "\n",
    "$\\mathcal{C}[i,j] = \n",
    "     \\begin{cases}\n",
    "         1/(1+2i), & \\text{if}\\ i=j \\\\\n",
    "         0, & \\text{otherwise}\n",
    "    \\end{cases}\n",
    "$\n",
    "\n",
    "This is useful, but is there a way to show this?  And is there something similarly nice for $\\int_0^1C_t M C_t dt $?"
   ]
  },
  {
   "cell_type": "markdown",
   "metadata": {
    "collapsed": true
   },
   "source": [
    "## Update\n",
    "\n",
    "Aaron pointed out to me that this identity I found is actually right on the wikipedia page for Legendre polynomials:  https://en.wikipedia.org/wiki/Legendre_polynomials#Orthonormality_and_completeness.  Because that's really just the dot product of all the legendre polynomials with each other.  The fact that it's purely diagonal is because they are orthoganal.  The fact that it's *not* an identity matrix is because they are not an orthonormal basis.  Rather, they've been scaled to fit nicely between -1 and 1.\n",
    "\n",
    "So, that leaves us with $\\mathcal{M} = \\int_0^1C_t M C_t dt $.  What can we do with this?  Well, let's just go ahead and compute it symbolically."
   ]
  },
  {
   "cell_type": "code",
   "execution_count": 10,
   "metadata": {},
   "outputs": [],
   "source": [
    "import sympy\n",
    "t = sympy.Symbol('t')\n",
    "\n",
    "def leg_poly(n):\n",
    "    # from https://en.wikipedia.org/wiki/Legendre_polynomials#Rodrigues'_formula_and_other_explicit_formulas\n",
    "    return 1/(sympy.Rational(2**n * np.math.factorial(n))) * sympy.diff((t**2-1)**n,t,n)\n",
    "\n",
    "def compute_M(q):\n",
    "    P = sympy.Matrix([leg_poly(i) for i in range(q)])\n",
    "    C = P*P.T\n",
    "    M = sympy.Matrix([[sympy.Symbol('m_{%d,%d}'%(i,j)) for i in range(q)] for j in range(q)])\n",
    "    return sympy.integrate(C*M*C, (t, -1, 1))  # note that we integrate from -1 to 1 as these are the non-shifted Legendre Polynomials"
   ]
  },
  {
   "cell_type": "code",
   "execution_count": 6,
   "metadata": {},
   "outputs": [
    {
     "data": {
      "text/latex": [
       "$\\displaystyle \\left[\\begin{matrix}2 m_{0,0}\\end{matrix}\\right]$"
      ],
      "text/plain": [
       "Matrix([[2*m_{0,0}]])"
      ]
     },
     "execution_count": 6,
     "metadata": {},
     "output_type": "execute_result"
    }
   ],
   "source": [
    "compute_M(q=1)"
   ]
  },
  {
   "cell_type": "code",
   "execution_count": 7,
   "metadata": {},
   "outputs": [
    {
     "data": {
      "text/latex": [
       "$\\displaystyle \\left[\\begin{matrix}2 m_{0,0} + \\frac{2 m_{1,1}}{3} & \\frac{2 m_{0,1}}{3} + \\frac{2 m_{1,0}}{3}\\\\\\frac{2 m_{0,1}}{3} + \\frac{2 m_{1,0}}{3} & \\frac{2 m_{0,0}}{3} + \\frac{2 m_{1,1}}{5}\\end{matrix}\\right]$"
      ],
      "text/plain": [
       "Matrix([\n",
       "[  2*m_{0,0} + 2*m_{1,1}/3, 2*m_{0,1}/3 + 2*m_{1,0}/3],\n",
       "[2*m_{0,1}/3 + 2*m_{1,0}/3, 2*m_{0,0}/3 + 2*m_{1,1}/5]])"
      ]
     },
     "execution_count": 7,
     "metadata": {},
     "output_type": "execute_result"
    }
   ],
   "source": [
    "compute_M(q=2)"
   ]
  },
  {
   "cell_type": "code",
   "execution_count": 8,
   "metadata": {},
   "outputs": [
    {
     "data": {
      "text/latex": [
       "$\\displaystyle \\left[\\begin{matrix}2 m_{0,0} + \\frac{2 m_{1,1}}{3} + \\frac{2 m_{2,2}}{5} & \\frac{2 m_{0,1}}{3} + \\frac{2 m_{1,0}}{3} + \\frac{4 m_{1,2}}{15} + \\frac{4 m_{2,1}}{15} & \\frac{2 m_{0,2}}{5} + \\frac{4 m_{1,1}}{15} + \\frac{2 m_{2,0}}{5} + \\frac{4 m_{2,2}}{35}\\\\\\frac{2 m_{0,1}}{3} + \\frac{2 m_{1,0}}{3} + \\frac{4 m_{1,2}}{15} + \\frac{4 m_{2,1}}{15} & \\frac{2 m_{0,0}}{3} + \\frac{4 m_{0,2}}{15} + \\frac{2 m_{1,1}}{5} + \\frac{4 m_{2,0}}{15} + \\frac{22 m_{2,2}}{105} & \\frac{4 m_{0,1}}{15} + \\frac{4 m_{1,0}}{15} + \\frac{22 m_{1,2}}{105} + \\frac{22 m_{2,1}}{105}\\\\\\frac{2 m_{0,2}}{5} + \\frac{4 m_{1,1}}{15} + \\frac{2 m_{2,0}}{5} + \\frac{4 m_{2,2}}{35} & \\frac{4 m_{0,1}}{15} + \\frac{4 m_{1,0}}{15} + \\frac{22 m_{1,2}}{105} + \\frac{22 m_{2,1}}{105} & \\frac{2 m_{0,0}}{5} + \\frac{4 m_{0,2}}{35} + \\frac{22 m_{1,1}}{105} + \\frac{4 m_{2,0}}{35} + \\frac{6 m_{2,2}}{35}\\end{matrix}\\right]$"
      ],
      "text/plain": [
       "Matrix([\n",
       "[                  2*m_{0,0} + 2*m_{1,1}/3 + 2*m_{2,2}/5,                  2*m_{0,1}/3 + 2*m_{1,0}/3 + 4*m_{1,2}/15 + 4*m_{2,1}/15,                   2*m_{0,2}/5 + 4*m_{1,1}/15 + 2*m_{2,0}/5 + 4*m_{2,2}/35],\n",
       "[2*m_{0,1}/3 + 2*m_{1,0}/3 + 4*m_{1,2}/15 + 4*m_{2,1}/15, 2*m_{0,0}/3 + 4*m_{0,2}/15 + 2*m_{1,1}/5 + 4*m_{2,0}/15 + 22*m_{2,2}/105,             4*m_{0,1}/15 + 4*m_{1,0}/15 + 22*m_{1,2}/105 + 22*m_{2,1}/105],\n",
       "[2*m_{0,2}/5 + 4*m_{1,1}/15 + 2*m_{2,0}/5 + 4*m_{2,2}/35,            4*m_{0,1}/15 + 4*m_{1,0}/15 + 22*m_{1,2}/105 + 22*m_{2,1}/105, 2*m_{0,0}/5 + 4*m_{0,2}/35 + 22*m_{1,1}/105 + 4*m_{2,0}/35 + 6*m_{2,2}/35]])"
      ]
     },
     "execution_count": 8,
     "metadata": {},
     "output_type": "execute_result"
    }
   ],
   "source": [
    "compute_M(q=3)"
   ]
  },
  {
   "cell_type": "code",
   "execution_count": 9,
   "metadata": {},
   "outputs": [
    {
     "data": {
      "text/latex": [
       "$\\displaystyle \\left[\\begin{matrix}2 m_{0,0} + \\frac{2 m_{1,1}}{3} + \\frac{2 m_{2,2}}{5} + \\frac{2 m_{3,3}}{7} & \\frac{2 m_{0,1}}{3} + \\frac{2 m_{1,0}}{3} + \\frac{4 m_{1,2}}{15} + \\frac{4 m_{2,1}}{15} + \\frac{6 m_{2,3}}{35} + \\frac{6 m_{3,2}}{35} & \\frac{2 m_{0,2}}{5} + \\frac{4 m_{1,1}}{15} + \\frac{6 m_{1,3}}{35} + \\frac{2 m_{2,0}}{5} + \\frac{4 m_{2,2}}{35} + \\frac{6 m_{3,1}}{35} + \\frac{8 m_{3,3}}{105} & \\frac{2 m_{0,3}}{7} + \\frac{6 m_{1,2}}{35} + \\frac{6 m_{2,1}}{35} + \\frac{8 m_{2,3}}{105} + \\frac{2 m_{3,0}}{7} + \\frac{8 m_{3,2}}{105}\\\\\\frac{2 m_{0,1}}{3} + \\frac{2 m_{1,0}}{3} + \\frac{4 m_{1,2}}{15} + \\frac{4 m_{2,1}}{15} + \\frac{6 m_{2,3}}{35} + \\frac{6 m_{3,2}}{35} & \\frac{2 m_{0,0}}{3} + \\frac{4 m_{0,2}}{15} + \\frac{2 m_{1,1}}{5} + \\frac{4 m_{1,3}}{35} + \\frac{4 m_{2,0}}{15} + \\frac{22 m_{2,2}}{105} + \\frac{4 m_{3,1}}{35} + \\frac{46 m_{3,3}}{315} & \\frac{4 m_{0,1}}{15} + \\frac{6 m_{0,3}}{35} + \\frac{4 m_{1,0}}{15} + \\frac{22 m_{1,2}}{105} + \\frac{22 m_{2,1}}{105} + \\frac{4 m_{2,3}}{35} + \\frac{6 m_{3,0}}{35} + \\frac{4 m_{3,2}}{35} & \\frac{6 m_{0,2}}{35} + \\frac{4 m_{1,1}}{35} + \\frac{46 m_{1,3}}{315} + \\frac{6 m_{2,0}}{35} + \\frac{4 m_{2,2}}{35} + \\frac{46 m_{3,1}}{315} + \\frac{24 m_{3,3}}{385}\\\\\\frac{2 m_{0,2}}{5} + \\frac{4 m_{1,1}}{15} + \\frac{6 m_{1,3}}{35} + \\frac{2 m_{2,0}}{5} + \\frac{4 m_{2,2}}{35} + \\frac{6 m_{3,1}}{35} + \\frac{8 m_{3,3}}{105} & \\frac{4 m_{0,1}}{15} + \\frac{6 m_{0,3}}{35} + \\frac{4 m_{1,0}}{15} + \\frac{22 m_{1,2}}{105} + \\frac{22 m_{2,1}}{105} + \\frac{4 m_{2,3}}{35} + \\frac{6 m_{3,0}}{35} + \\frac{4 m_{3,2}}{35} & \\frac{2 m_{0,0}}{5} + \\frac{4 m_{0,2}}{35} + \\frac{22 m_{1,1}}{105} + \\frac{4 m_{1,3}}{35} + \\frac{4 m_{2,0}}{35} + \\frac{6 m_{2,2}}{35} + \\frac{4 m_{3,1}}{35} + \\frac{122 m_{3,3}}{1155} & \\frac{6 m_{0,1}}{35} + \\frac{8 m_{0,3}}{105} + \\frac{6 m_{1,0}}{35} + \\frac{4 m_{1,2}}{35} + \\frac{4 m_{2,1}}{35} + \\frac{122 m_{2,3}}{1155} + \\frac{8 m_{3,0}}{105} + \\frac{122 m_{3,2}}{1155}\\\\\\frac{2 m_{0,3}}{7} + \\frac{6 m_{1,2}}{35} + \\frac{6 m_{2,1}}{35} + \\frac{8 m_{2,3}}{105} + \\frac{2 m_{3,0}}{7} + \\frac{8 m_{3,2}}{105} & \\frac{6 m_{0,2}}{35} + \\frac{4 m_{1,1}}{35} + \\frac{46 m_{1,3}}{315} + \\frac{6 m_{2,0}}{35} + \\frac{4 m_{2,2}}{35} + \\frac{46 m_{3,1}}{315} + \\frac{24 m_{3,3}}{385} & \\frac{6 m_{0,1}}{35} + \\frac{8 m_{0,3}}{105} + \\frac{6 m_{1,0}}{35} + \\frac{4 m_{1,2}}{35} + \\frac{4 m_{2,1}}{35} + \\frac{122 m_{2,3}}{1155} + \\frac{8 m_{3,0}}{105} + \\frac{122 m_{3,2}}{1155} & \\frac{2 m_{0,0}}{7} + \\frac{8 m_{0,2}}{105} + \\frac{46 m_{1,1}}{315} + \\frac{24 m_{1,3}}{385} + \\frac{8 m_{2,0}}{105} + \\frac{122 m_{2,2}}{1155} + \\frac{24 m_{3,1}}{385} + \\frac{482 m_{3,3}}{5005}\\end{matrix}\\right]$"
      ],
      "text/plain": [
       "Matrix([\n",
       "[                                                  2*m_{0,0} + 2*m_{1,1}/3 + 2*m_{2,2}/5 + 2*m_{3,3}/7,                                     2*m_{0,1}/3 + 2*m_{1,0}/3 + 4*m_{1,2}/15 + 4*m_{2,1}/15 + 6*m_{2,3}/35 + 6*m_{3,2}/35,                           2*m_{0,2}/5 + 4*m_{1,1}/15 + 6*m_{1,3}/35 + 2*m_{2,0}/5 + 4*m_{2,2}/35 + 6*m_{3,1}/35 + 8*m_{3,3}/105,                                              2*m_{0,3}/7 + 6*m_{1,2}/35 + 6*m_{2,1}/35 + 8*m_{2,3}/105 + 2*m_{3,0}/7 + 8*m_{3,2}/105],\n",
       "[                2*m_{0,1}/3 + 2*m_{1,0}/3 + 4*m_{1,2}/15 + 4*m_{2,1}/15 + 6*m_{2,3}/35 + 6*m_{3,2}/35,   2*m_{0,0}/3 + 4*m_{0,2}/15 + 2*m_{1,1}/5 + 4*m_{1,3}/35 + 4*m_{2,0}/15 + 22*m_{2,2}/105 + 4*m_{3,1}/35 + 46*m_{3,3}/315,       4*m_{0,1}/15 + 6*m_{0,3}/35 + 4*m_{1,0}/15 + 22*m_{1,2}/105 + 22*m_{2,1}/105 + 4*m_{2,3}/35 + 6*m_{3,0}/35 + 4*m_{3,2}/35,                         6*m_{0,2}/35 + 4*m_{1,1}/35 + 46*m_{1,3}/315 + 6*m_{2,0}/35 + 4*m_{2,2}/35 + 46*m_{3,1}/315 + 24*m_{3,3}/385],\n",
       "[2*m_{0,2}/5 + 4*m_{1,1}/15 + 6*m_{1,3}/35 + 2*m_{2,0}/5 + 4*m_{2,2}/35 + 6*m_{3,1}/35 + 8*m_{3,3}/105, 4*m_{0,1}/15 + 6*m_{0,3}/35 + 4*m_{1,0}/15 + 22*m_{1,2}/105 + 22*m_{2,1}/105 + 4*m_{2,3}/35 + 6*m_{3,0}/35 + 4*m_{3,2}/35,      2*m_{0,0}/5 + 4*m_{0,2}/35 + 22*m_{1,1}/105 + 4*m_{1,3}/35 + 4*m_{2,0}/35 + 6*m_{2,2}/35 + 4*m_{3,1}/35 + 122*m_{3,3}/1155,      6*m_{0,1}/35 + 8*m_{0,3}/105 + 6*m_{1,0}/35 + 4*m_{1,2}/35 + 4*m_{2,1}/35 + 122*m_{2,3}/1155 + 8*m_{3,0}/105 + 122*m_{3,2}/1155],\n",
       "[              2*m_{0,3}/7 + 6*m_{1,2}/35 + 6*m_{2,1}/35 + 8*m_{2,3}/105 + 2*m_{3,0}/7 + 8*m_{3,2}/105,              6*m_{0,2}/35 + 4*m_{1,1}/35 + 46*m_{1,3}/315 + 6*m_{2,0}/35 + 4*m_{2,2}/35 + 46*m_{3,1}/315 + 24*m_{3,3}/385, 6*m_{0,1}/35 + 8*m_{0,3}/105 + 6*m_{1,0}/35 + 4*m_{1,2}/35 + 4*m_{2,1}/35 + 122*m_{2,3}/1155 + 8*m_{3,0}/105 + 122*m_{3,2}/1155, 2*m_{0,0}/7 + 8*m_{0,2}/105 + 46*m_{1,1}/315 + 24*m_{1,3}/385 + 8*m_{2,0}/105 + 122*m_{2,2}/1155 + 24*m_{3,1}/385 + 482*m_{3,3}/5005]])"
      ]
     },
     "execution_count": 9,
     "metadata": {},
     "output_type": "execute_result"
    }
   ],
   "source": [
    "compute_M(q=4)"
   ]
  },
  {
   "cell_type": "markdown",
   "metadata": {},
   "source": [
    "Hmm...  now that is a very interesting structure.  I'm even more convinced that there's a nice compact way of writing that, but I have no idea what it is, and probably involves a lot more Pure Math than I know.  Also, this approach works fine, but starts taking longer and longer as q gets bigger.  But we should be able to just compute the coefficients on each entry in the $M$ matrix, giving us $W$, a 6x6x36 tensor where $\\mathcal{M} = W vec(M)$.\n",
    "\n",
    "We can do this by doing the same computation, but using an M matrix that is all zeros except for a single 1 and changing where that 1 is."
   ]
  },
  {
   "cell_type": "code",
   "execution_count": 27,
   "metadata": {},
   "outputs": [
    {
     "data": {
      "text/plain": [
       "array([[[2, 0, 0, 0, 0, 0],\n",
       "        [0, 2/3, 0, 0, 0, 0],\n",
       "        [0, 0, 2/5, 0, 0, 0],\n",
       "        [0, 0, 0, 2/7, 0, 0],\n",
       "        [0, 0, 0, 0, 2/9, 0],\n",
       "        [0, 0, 0, 0, 0, 2/11]],\n",
       "\n",
       "       [[0, 2/3, 0, 0, 0, 0],\n",
       "        [2/3, 0, 4/15, 0, 0, 0],\n",
       "        [0, 4/15, 0, 6/35, 0, 0],\n",
       "        [0, 0, 6/35, 0, 8/63, 0],\n",
       "        [0, 0, 0, 8/63, 0, 10/99],\n",
       "        [0, 0, 0, 0, 10/99, 0]],\n",
       "\n",
       "       [[0, 0, 2/5, 0, 0, 0],\n",
       "        [0, 4/15, 0, 6/35, 0, 0],\n",
       "        [2/5, 0, 4/35, 0, 4/35, 0],\n",
       "        [0, 6/35, 0, 8/105, 0, 20/231],\n",
       "        [0, 0, 4/35, 0, 40/693, 0],\n",
       "        [0, 0, 0, 20/231, 0, 20/429]],\n",
       "\n",
       "       ...,\n",
       "\n",
       "       [[0, 0, 20/231, 0, 40/1001, 0],\n",
       "        [0, 40/693, 0, 60/1001, 0, 36/1001],\n",
       "        [20/231, 0, 136/3003, 0, 50/1001, 0],\n",
       "        [0, 60/1001, 0, 40/1001, 0, 866/17017],\n",
       "        [40/1001, 0, 50/1001, 0, 200/4641, 0],\n",
       "        [0, 36/1001, 0, 866/17017, 0, 9080/323323]],\n",
       "\n",
       "       [[0, 10/99, 0, 40/1001, 0, 4/143],\n",
       "        [10/99, 0, 580/9009, 0, 100/3003, 0],\n",
       "        [0, 580/9009, 0, 50/1001, 0, 40/1309],\n",
       "        [40/1001, 0, 50/1001, 0, 200/4641, 0],\n",
       "        [0, 100/3003, 0, 200/4641, 0, 42646/969969],\n",
       "        [4/143, 0, 40/1309, 0, 42646/969969, 0]],\n",
       "\n",
       "       [[2/11, 0, 20/429, 0, 4/143, 0],\n",
       "        [0, 118/1287, 0, 36/1001, 0, 60/2431],\n",
       "        [20/429, 0, 74/1155, 0, 40/1309, 0],\n",
       "        [0, 36/1001, 0, 866/17017, 0, 9080/323323],\n",
       "        [4/143, 0, 40/1309, 0, 42646/969969, 0],\n",
       "        [0, 60/2431, 0, 9080/323323, 0, 2018/46189]]], dtype=object)"
      ]
     },
     "execution_count": 27,
     "metadata": {},
     "output_type": "execute_result"
    }
   ],
   "source": [
    "def basis_matrix(q, i, j):\n",
    "    P = sympy.Matrix([leg_poly(i) for i in range(q)])\n",
    "    C = P*P.T\n",
    "    m = sympy.Matrix([[1 if (i==ii and j==jj) else 0 for ii in range(q)] for jj in range(q)])\n",
    "    return sympy.integrate(C*sympy.Matrix(m)*C, (t, -1, 1))\n",
    "\n",
    "q = 6\n",
    "w = []\n",
    "for i in range(q):\n",
    "    for j in range(q):\n",
    "        w.append(np.array(basis_matrix(q=q, i=i, j=j)))\n",
    "w = np.array(w)\n",
    "\n",
    "w"
   ]
  },
  {
   "cell_type": "markdown",
   "metadata": {},
   "source": [
    "Or we can do the same thing a little more efficiently by doing slices through the $\\mathcal{C}$ matrix, since that's all the $M$ matrix is doing."
   ]
  },
  {
   "cell_type": "code",
   "execution_count": 28,
   "metadata": {},
   "outputs": [],
   "source": [
    "def basis_matrix(q, i, j):\n",
    "    P = sympy.Matrix([leg_poly(i) for i in range(q)])\n",
    "    C = P*P.T\n",
    "    m = C[:,i]*C[j,:]\n",
    "    return sympy.integrate(m, (t, -1, 1))\n",
    "\n",
    "q = 6\n",
    "w = []\n",
    "for i in range(q):\n",
    "    for j in range(q):\n",
    "        w.append(np.array(basis_matrix(q=q, i=i, j=j)))\n",
    "w = np.array(w)"
   ]
  },
  {
   "cell_type": "markdown",
   "metadata": {},
   "source": [
    "Either way, we get a very pretty pattern:"
   ]
  },
  {
   "cell_type": "code",
   "execution_count": 29,
   "metadata": {},
   "outputs": [
    {
     "data": {
      "image/png": "[encoded data removed]",
      "text/plain": [
       "<Figure size 864x864 with 2 Axes>"
      ]
     },
     "metadata": {},
     "output_type": "display_data"
    }
   ],
   "source": [
    "plt.figure(figsize=(12,12))\n",
    "plt.imshow(w.astype(float).reshape(q**2, q**2), cmap='gray_r')\n",
    "for i in range(q):\n",
    "    plt.axvline(i*q-0.5)\n",
    "    plt.axhline(i*q-0.5)\n",
    "    \n",
    "plt.colorbar()\n",
    "plt.show()"
   ]
  },
  {
   "cell_type": "markdown",
   "metadata": {},
   "source": [
    "(each $i,j$ sub-square shows the coefficients of $m_{i,j}$ for the final $\\mathcal{M}$ matrix)\n",
    "\n",
    "\n",
    "This still takes a little while to pre-compute, so it'd be nice to be able to understand the pattern here, but this is pretty good for now."
   ]
  },
  {
   "cell_type": "code",
   "execution_count": null,
   "metadata": {
    "collapsed": true
   },
   "outputs": [],
   "source": []
  }
 ],
 "metadata": {
  "kernelspec": {
   "display_name": "Python 3",
   "language": "python",
   "name": "python3"
  },
  "language_info": {
   "codemirror_mode": {
    "name": "ipython",
    "version": 3
   },
   "file_extension": ".py",
   "mimetype": "text/x-python",
   "name": "python",
   "nbconvert_exporter": "python",
   "pygments_lexer": "ipython3",
   "version": "3.6.1"
  }
 },
 "nbformat": 4,
 "nbformat_minor": 2
}
