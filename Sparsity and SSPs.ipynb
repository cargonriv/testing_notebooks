{
 "cells": [
  {
   "cell_type": "code",
   "execution_count": 1,
   "metadata": {},
   "outputs": [],
   "source": [
    "%matplotlib inline\n",
    "import nengo\n",
    "import numpy as np\n",
    "import scipy.special"
   ]
  },
  {
   "cell_type": "markdown",
   "metadata": {},
   "source": [
    "When working with learning and neural networks, it is useful to be able to control the sparsity of the network.  In this case, I'll define sparsity to mean \"the proportion of the input space that causes a particular neuron to fire\".  So if a neuron has sparsity = 0.1, then it will fire for 10% of its inputs.\n",
    "\n",
    "In the NEF, the only parameter we have to control sparsity is the $x_{intercept}$.  This is the value where if $x \\cdot e > x_{intercept}$, then the neuron will fire.\n",
    "\n",
    "So, we need to compute the $x_{intercept}$ that gives a certain level of sparsity.\n",
    "\n",
    "To do this, let's consider a hyperspherical cap: https://en.wikipedia.org/wiki/Spherical_cap#Hyperspherical_cap\n",
    "\n",
    "<img src=https://upload.wikimedia.org/wikipedia/commons/thumb/2/2f/Spherical_cap_diagram.tiff/lossless-page1-220px-Spherical_cap_diagram.tiff.png>\n",
    "\n",
    "The volume is $V = {1 \\over 2} C_d r^d I_{2rh-h^2 \\over r^2}({d+1 \\over 2}, {1 \\over 2})$ where $C_d$ is the volume of a unit hyperball of dimension $d$ and $I_x(a,b)$ is the regularized incomplete beta function.\n",
    "\n",
    "The surface area is $A = {1 \\over 2} A_d r^d I_{2rh-h^2 \\over r^2}({d-1 \\over 2}, {1 \\over 2})$ where $A_d$ is the surface area of a unit hypersphere of dimension $d$ and $I_x(a,b)$ is the regularized incomplete beta function.\n",
    "\n",
    "When we're working with SSPs, we are dealing with points on the surface of a hypersphere of radius 1, and $h=1-x_{intercept}$.  So, the proportion of points inside the hyperspeherical cap is $A/A_d$, which is\n",
    "\n",
    "$p = {1 \\over 2} I_{1-{x_{intercept}^2}}({{d-1} \\over 2}, {1 \\over 2})$\n",
    "\n",
    "If we have this proportion, but we want to compute the $x_{intercept}$, then we need to invert this function:\n",
    "\n",
    "$2p = I_{1-{x_{intercept}^2}}({{d-1} \\over 2}, {1 \\over 2})$\n",
    "\n",
    "$1-{x_{intercept}^2} = I^{-1}_{2p}({{d-1} \\over 2}, {1 \\over 2})$\n",
    "\n",
    "${x_{intercept}^2} = 1-I^{-1}_{2p}({{d-1} \\over 2}, {1 \\over 2})$\n",
    "\n",
    "$x_{intercept} = \\sqrt{1-I^{-1}_{2p}({{d-1} \\over 2}, {1 \\over 2})}$\n",
    "\n",
    "\n",
    "\n",
    "Of course, this formula only works for $p<0.5$.  For $p>0.5$ we can use 1-x_{intercept} and flip the sign."
   ]
  },
  {
   "cell_type": "code",
   "execution_count": 2,
   "metadata": {},
   "outputs": [],
   "source": [
    "def sparsity_to_x_intercept(d, p):\n",
    "    sign = 1\n",
    "    if p > 0.5:\n",
    "        p = 1.0 - p\n",
    "        sign = -1\n",
    "    return sign * np.sqrt(1-scipy.special.betaincinv((d-1)/2.0, 0.5, 2*p))\n"
   ]
  },
  {
   "cell_type": "markdown",
   "metadata": {},
   "source": [
    "One thing to note is that if we want the same thing but for *volume* (i.e. for representing points that are inside the hypersphere), then we can do the same derivation but using the volume formula.  The only difference is that instead of d-1, you get d+1.  The d+1 version of this formula is what I used for the original derivation of intercepts that lead to the CosineSimilarity(D-2) suggestion for initializing intercepts (if you want a uniform distribution of sparsity).  For that derivation, see https://github.com/tcstewar/testing_notebooks/blob/master/Intercept%20Distribution%20.ipynb"
   ]
  },
  {
   "cell_type": "markdown",
   "metadata": {},
   "source": [
    "Let's test this formula.  We'll do it by generating a neuron with the intercept computed with this function, and measuring its sparsity by randomly sampling points on the surface of the hypersphere."
   ]
  },
  {
   "cell_type": "code",
   "execution_count": 3,
   "metadata": {},
   "outputs": [
    {
     "data": {
      "application/vdom.v1+json": {
       "attributes": {},
       "tagName": "div"
      },
      "text/html": [
       "\n",
       "                <script>\n",
       "                    if (Jupyter.version.split(\".\")[0] < 5) {\n",
       "                        var pb = document.getElementById(\"4a68f3f3-6cea-45eb-b08b-e66b09f97ac0\");\n",
       "                        var text = document.createTextNode(\n",
       "                            \"HMTL progress bar requires Jupyter Notebook >= \" +\n",
       "                            \"5.0 or Jupyter Lab. Alternatively, you can use \" +\n",
       "                            \"TerminalProgressBar().\");\n",
       "                        pb.parentNode.insertBefore(text, pb);\n",
       "                    }\n",
       "                </script>\n",
       "                <div id=\"4a68f3f3-6cea-45eb-b08b-e66b09f97ac0\" style=\"\n",
       "                    width: 100%;\n",
       "                    border: 1px solid #cfcfcf;\n",
       "                    border-radius: 4px;\n",
       "                    text-align: center;\n",
       "                    position: relative;\">\n",
       "                  <div class=\"pb-text\" style=\"\n",
       "                      position: absolute;\n",
       "                      width: 100%;\">\n",
       "                    0%\n",
       "                  </div>\n",
       "                  <div class=\"pb-fill\" style=\"\n",
       "                      background-color: #bdd2e6;\n",
       "                      width: 0%;\">\n",
       "                    <style type=\"text/css\" scoped=\"scoped\">\n",
       "                        @keyframes pb-fill-anim {\n",
       "                            0% { background-position: 0 0; }\n",
       "                            100% { background-position: 100px 0; }\n",
       "                        }\n",
       "                    </style>\n",
       "                    &nbsp;\n",
       "                  </div>\n",
       "                </div>"
      ],
      "text/plain": [
       "HtmlProgressBar cannot be displayed. Please use the TerminalProgressBar. It can be enabled with `nengo.rc['progress']['progress_bar'] = 'nengo.utils.progress.TerminalProgressBar'`."
      ]
     },
     "metadata": {},
     "output_type": "display_data"
    },
    {
     "data": {
      "application/vdom.v1+json": {
       "attributes": {
        "id": "58aa303b-7673-4bc4-9091-1038c47e60c0",
        "style": {
         "border": "1px solid #cfcfcf",
         "borderRadius": "4px",
         "boxSizing": "border-box",
         "position": "relative",
         "textAlign": "center",
         "width": "100%"
        }
       },
       "children": [
        {
         "attributes": {
          "class": "pb-text",
          "style": {
           "position": "absolute",
           "width": "100%"
          }
         },
         "children": [
          "Build finished in 0:00:01."
         ],
         "tagName": "div"
        },
        {
         "attributes": {
          "class": "pb-fill",
          "style": {
           "animation": "none",
           "backgroundColor": "#bdd2e6",
           "backgroundImage": "none",
           "backgroundSize": "100px 100%",
           "width": "100%"
          }
         },
         "children": [
          {
           "attributes": {
            "scoped": "scoped",
            "type": "text/css"
           },
           "children": [
            "\n                        @keyframes pb-fill-anim {\n                            0% { background-position: 0 0; }\n                            100% { background-position: 100px 0; }\n                        }}"
           ],
           "tagName": "style"
          },
          " "
         ],
         "tagName": "div"
        }
       ],
       "tagName": "div"
      },
      "text/html": [
       "<script>\n",
       "              (function () {\n",
       "                  var root = document.getElementById('4a68f3f3-6cea-45eb-b08b-e66b09f97ac0');\n",
       "                  var text = root.getElementsByClassName('pb-text')[0];\n",
       "                  var fill = root.getElementsByClassName('pb-fill')[0];\n",
       "\n",
       "                  text.innerHTML = 'Build finished in 0:00:01.';\n",
       "                  \n",
       "            fill.style.width = '100%';\n",
       "            fill.style.animation = 'pb-fill-anim 2s linear infinite';\n",
       "            fill.style.backgroundSize = '100px 100%';\n",
       "            fill.style.backgroundImage = 'repeating-linear-gradient(' +\n",
       "                '90deg, #bdd2e6, #edf2f8 40%, #bdd2e6 80%, #bdd2e6)';\n",
       "        \n",
       "                  \n",
       "                fill.style.animation = 'none';\n",
       "                fill.style.backgroundImage = 'none';\n",
       "            \n",
       "              })();\n",
       "        </script>"
      ]
     },
     "metadata": {},
     "output_type": "display_data"
    },
    {
     "name": "stdout",
     "output_type": "stream",
     "text": [
      "Computed sparsity: 0.100237\n"
     ]
    }
   ],
   "source": [
    "D = 32\n",
    "N = 1000000\n",
    "sparsity = 0.1\n",
    "intercept = sparsity_to_x_intercept(D, sparsity)\n",
    "\n",
    "model = nengo.Network()\n",
    "with model:\n",
    "    ens = nengo.Ensemble(n_neurons=1, dimensions=D,\n",
    "                         intercepts=[intercept])\n",
    "sim = nengo.Simulator(model)\n",
    "\n",
    "# generate samples just on the surface of the sphere\n",
    "pts = nengo.dists.UniformHypersphere(surface=True).sample(N, D)\n",
    "\n",
    "_, A = nengo.utils.ensemble.tuning_curves(ens, sim, inputs=pts)\n",
    "    \n",
    "print('Computed sparsity:', np.mean(A>0))"
   ]
  },
  {
   "cell_type": "code",
   "execution_count": null,
   "metadata": {},
   "outputs": [],
   "source": []
  }
 ],
 "metadata": {
  "kernelspec": {
   "display_name": "Python 3",
   "language": "python",
   "name": "python3"
  },
  "language_info": {
   "codemirror_mode": {
    "name": "ipython",
    "version": 3
   },
   "file_extension": ".py",
   "mimetype": "text/x-python",
   "name": "python",
   "nbconvert_exporter": "python",
   "pygments_lexer": "ipython3",
   "version": "3.8.5"
  }
 },
 "nbformat": 4,
 "nbformat_minor": 4
}
