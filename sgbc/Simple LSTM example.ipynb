{
 "cells": [
  {
   "cell_type": "code",
   "execution_count": 1,
   "metadata": {},
   "outputs": [],
   "source": [
    "%matplotlib inline\n",
    "import numpy as np\n",
    "import matplotlib.pyplot as plt\n",
    "import tensorflow as tf\n",
    "from tensorflow.contrib import rnn\n"
   ]
  },
  {
   "cell_type": "markdown",
   "metadata": {},
   "source": [
    "First, we create some data.  In a real example, this would be loaded up out of the file.\n",
    "\n",
    "In this case, `input_data` is two values, and `output_data` is one value (the thing we're trying to predict given the `input_data`).  For the particular data I've generated here, you can't do it given only the current `input_data`; you can only make an accurate prediction given the previous `input_data` as well."
   ]
  },
  {
   "cell_type": "code",
   "execution_count": 2,
   "metadata": {
    "scrolled": false
   },
   "outputs": [
    {
     "name": "stdout",
     "output_type": "stream",
     "text": [
      "Input Data [[-0.04232901  0.09917454]\n",
      " [ 0.8426753   0.88931797]\n",
      " [ 0.89181424  1.15841686]\n",
      " [ 1.11104236  1.10323198]\n",
      " [ 1.1024365   0.98359989]\n",
      " [ 0.9294331   0.88676824]\n",
      " [ 0.98303489  1.20218821]\n",
      " [ 1.03151294  0.96535025]\n",
      " [ 1.2600413   1.11101549]\n",
      " [ 0.9358737   1.11825045]\n",
      " [ 0.93040759  0.85344186]\n",
      " [-0.92522425 -0.85318536]\n",
      " [-1.08492878 -0.86590195]\n",
      " [-1.02661204 -1.0483429 ]\n",
      " [-0.9717235  -0.84026395]\n",
      " [-1.02163163 -1.03566497]\n",
      " [-1.09635253 -0.86213084]\n",
      " [-1.0026814  -0.82396295]\n",
      " [-1.01701411 -1.01907775]\n",
      " [-0.98439261 -1.08874237]\n",
      " [-0.94407735 -1.04049648]\n",
      " [ 0.94206369  1.04211453]\n",
      " [ 0.88162538  0.94258468]\n",
      " [ 0.794987    0.85581064]\n",
      " [ 1.01220763  0.88006289]\n",
      " [ 1.13933018  1.09401004]\n",
      " [ 0.98401723  0.87785847]\n",
      " [ 1.02214654  0.99210294]\n",
      " [ 0.99353376  0.99154158]\n",
      " [ 0.95545053  0.89364635]\n",
      " [ 1.08027534  0.9108535 ]\n",
      " [-0.89835819 -0.80895697]\n",
      " [-0.91163228 -1.06545291]\n",
      " [-1.09966017 -0.94073604]\n",
      " [-0.93932836 -1.10669001]\n",
      " [-0.94720038 -1.09262729]\n",
      " [-1.23337907 -0.94043563]\n",
      " [-0.93821804 -0.98484235]\n",
      " [-1.00089607 -1.01504959]\n",
      " [-0.96007628 -0.9911607 ]\n",
      " [-1.04806882 -0.94383492]\n",
      " [ 0.86679227  0.87842242]\n",
      " [ 0.76181944  0.93620707]\n",
      " [ 1.10514362  0.95001283]\n",
      " [ 0.86993086  1.08835787]\n",
      " [ 1.2148775   0.94285771]\n",
      " [ 1.02690378  0.97005636]\n",
      " [ 1.02366859  1.10215202]\n",
      " [ 0.86427149  1.0102715 ]\n",
      " [ 0.99381077  0.85535798]]\n",
      "Output Data [1. 0. 0. 0. 0. 0. 1. 1. 1. 1. 1. 0. 0. 0. 0. 0. 1. 1. 1. 1. 1. 0. 0. 0.\n",
      " 0. 0. 1. 1. 1. 1. 1. 0. 0. 0. 0. 0. 1. 1. 1. 1. 1. 0. 0. 0. 0. 0. 1. 1.\n",
      " 1. 1.]\n"
     ]
    }
   ],
   "source": [
    "t = np.arange(50)*0.05\n",
    "input_data = np.sign(np.array([np.sin(2*np.pi*t),np.sin(2*np.pi*t)]).T).astype(float)\n",
    "input_data += np.random.normal(size=input_data.shape)*0.1\n",
    "output_data = (np.sign(np.sin(2*np.pi*t*2+np.pi)).astype(float)+1)/2\n",
    "\n",
    "print('Input Data', input_data)\n",
    "print('Output Data', output_data)"
   ]
  },
  {
   "cell_type": "markdown",
   "metadata": {},
   "source": [
    "Let's plot that data, just to make it clearer"
   ]
  },
  {
   "cell_type": "code",
   "execution_count": 3,
   "metadata": {},
   "outputs": [
    {
     "data": {
      "image/png": "[encoded data removed]",
      "text/plain": [
       "<Figure size 432x288 with 2 Axes>"
      ]
     },
     "metadata": {
      "needs_background": "light"
     },
     "output_type": "display_data"
    }
   ],
   "source": [
    "plt.subplot(2,1,1)\n",
    "plt.plot(input_data)\n",
    "plt.title('input data')\n",
    "plt.subplot(2,1,2)\n",
    "plt.plot(output_data)\n",
    "plt.title('output data')\n",
    "plt.tight_layout()\n",
    "plt.show()"
   ]
  },
  {
   "cell_type": "markdown",
   "metadata": {},
   "source": [
    "Now we need to make our network and train it."
   ]
  },
  {
   "cell_type": "code",
   "execution_count": 11,
   "metadata": {},
   "outputs": [],
   "source": [
    "n_epochs = 4000   # number of times to run the training\n",
    "n_units = 200     # size of the neural network\n",
    "n_classes = 1     # number of values in the output\n",
    "n_features = 2    # number of values in the input"
   ]
  },
  {
   "cell_type": "markdown",
   "metadata": {},
   "source": [
    "Now we create our network.  I don't quite understand exactly what's happening here, but I copied it from an LSTM tutorial. "
   ]
  },
  {
   "cell_type": "code",
   "execution_count": 5,
   "metadata": {},
   "outputs": [
    {
     "name": "stdout",
     "output_type": "stream",
     "text": [
      "WARNING:tensorflow:From /home/tcstewar/py3/lib/python3.6/site-packages/tensorflow/python/framework/op_def_library.py:263: colocate_with (from tensorflow.python.framework.ops) is deprecated and will be removed in a future version.\n",
      "Instructions for updating:\n",
      "Colocations handled automatically by placer.\n",
      "WARNING:tensorflow:From <ipython-input-5-1328888be030>:8: BasicLSTMCell.__init__ (from tensorflow.python.ops.rnn_cell_impl) is deprecated and will be removed in a future version.\n",
      "Instructions for updating:\n",
      "This class is equivalent as tf.keras.layers.LSTMCell, and will be replaced by that in Tensorflow 2.0.\n",
      "WARNING:tensorflow:From <ipython-input-5-1328888be030>:9: static_rnn (from tensorflow.python.ops.rnn) is deprecated and will be removed in a future version.\n",
      "Instructions for updating:\n",
      "Please use `keras.layers.RNN(cell, unroll=True)`, which is equivalent to this API\n",
      "WARNING:tensorflow:From /home/tcstewar/py3/lib/python3.6/site-packages/tensorflow/python/ops/math_ops.py:3066: to_int32 (from tensorflow.python.ops.math_ops) is deprecated and will be removed in a future version.\n",
      "Instructions for updating:\n",
      "Use tf.cast instead.\n"
     ]
    }
   ],
   "source": [
    "X = tf.placeholder('float',[None,n_features])\n",
    "Y = tf.placeholder('float')\n",
    "\n",
    "weights = tf.Variable(tf.random_normal([n_units, n_classes]))\n",
    "bias = tf.Variable(tf.random_normal([n_classes]))\n",
    "\n",
    "x = tf.split(X, n_features, 1)\n",
    "lstm_cell = rnn.BasicLSTMCell(n_units)    \n",
    "outputs, states = rnn.static_rnn(lstm_cell, x, dtype=tf.float32)   \n",
    "output = tf.matmul(outputs[-1], weights) + bias\n",
    "output = tf.reshape(output, [-1])\n",
    "\n",
    "cost = tf.reduce_mean(tf.nn.sigmoid_cross_entropy_with_logits(logits=output, labels=Y))\n",
    "optimizer = tf.train.AdamOptimizer().minimize(cost)\n"
   ]
  },
  {
   "cell_type": "markdown",
   "metadata": {},
   "source": [
    "Now we train it."
   ]
  },
  {
   "cell_type": "code",
   "execution_count": 6,
   "metadata": {},
   "outputs": [
    {
     "name": "stdout",
     "output_type": "stream",
     "text": [
      "Epoch 0 completed out of 4000 loss: 0.73743975\n",
      "Epoch 100 completed out of 4000 loss: 0.69281006\n",
      "Epoch 200 completed out of 4000 loss: 0.6913105\n",
      "Epoch 300 completed out of 4000 loss: 0.6881987\n",
      "Epoch 400 completed out of 4000 loss: 0.6789093\n",
      "Epoch 500 completed out of 4000 loss: 0.6650203\n",
      "Epoch 600 completed out of 4000 loss: 0.65867543\n",
      "Epoch 700 completed out of 4000 loss: 0.6538023\n",
      "Epoch 800 completed out of 4000 loss: 0.63824755\n",
      "Epoch 900 completed out of 4000 loss: 0.60115725\n",
      "Epoch 1000 completed out of 4000 loss: 0.57536954\n",
      "Epoch 1100 completed out of 4000 loss: 0.5344367\n",
      "Epoch 1200 completed out of 4000 loss: 0.50100875\n",
      "Epoch 1300 completed out of 4000 loss: 0.48381713\n",
      "Epoch 1400 completed out of 4000 loss: 0.4717062\n",
      "Epoch 1500 completed out of 4000 loss: 0.4608936\n",
      "Epoch 1600 completed out of 4000 loss: 0.45047417\n",
      "Epoch 1700 completed out of 4000 loss: 0.43986458\n",
      "Epoch 1800 completed out of 4000 loss: 0.42642507\n",
      "Epoch 1900 completed out of 4000 loss: 0.40497398\n",
      "Epoch 2000 completed out of 4000 loss: 0.38062504\n",
      "Epoch 2100 completed out of 4000 loss: 0.36267644\n",
      "Epoch 2200 completed out of 4000 loss: 0.34934875\n",
      "Epoch 2300 completed out of 4000 loss: 0.33801606\n",
      "Epoch 2400 completed out of 4000 loss: 0.3274806\n",
      "Epoch 2500 completed out of 4000 loss: 0.31948522\n",
      "Epoch 2600 completed out of 4000 loss: 0.30980897\n",
      "Epoch 2700 completed out of 4000 loss: 0.30197266\n",
      "Epoch 2800 completed out of 4000 loss: 0.2948595\n",
      "Epoch 2900 completed out of 4000 loss: 0.28840593\n",
      "Epoch 3000 completed out of 4000 loss: 0.2824692\n",
      "Epoch 3100 completed out of 4000 loss: 0.27702457\n",
      "Epoch 3200 completed out of 4000 loss: 0.27189472\n",
      "Epoch 3300 completed out of 4000 loss: 0.26702037\n",
      "Epoch 3400 completed out of 4000 loss: 0.26187265\n",
      "Epoch 3500 completed out of 4000 loss: 0.25693977\n",
      "Epoch 3600 completed out of 4000 loss: 0.25203773\n",
      "Epoch 3700 completed out of 4000 loss: 0.247422\n",
      "Epoch 3800 completed out of 4000 loss: 0.24294454\n",
      "Epoch 3900 completed out of 4000 loss: 0.23809572\n"
     ]
    }
   ],
   "source": [
    "with tf.Session() as session:\n",
    "\n",
    "    # initialize the network\n",
    "    tf.global_variables_initializer().run()\n",
    "    tf.local_variables_initializer().run()\n",
    "\n",
    "    # now do the training\n",
    "    for epoch in range(n_epochs):\n",
    "        # this does one pass through the traiing\n",
    "        _, error = session.run([optimizer, cost], feed_dict={X: input_data, Y: output_data})\n",
    "\n",
    "        # print a message every 100 epochs\n",
    "        if epoch % 100 == 0:\n",
    "            print('Epoch', epoch, 'completed out of', n_epochs, 'error:', error)\n",
    "\n",
    "    # now compute the output after training\n",
    "    pred = tf.round(tf.nn.sigmoid(output)).eval({X: input_data})"
   ]
  },
  {
   "cell_type": "code",
   "execution_count": 10,
   "metadata": {},
   "outputs": [
    {
     "data": {
      "image/png": "[encoded data removed]",
      "text/plain": [
       "<Figure size 432x288 with 2 Axes>"
      ]
     },
     "metadata": {
      "needs_background": "light"
     },
     "output_type": "display_data"
    }
   ],
   "source": [
    "plt.subplot(2, 1, 1)\n",
    "plt.title('ideal output')\n",
    "plt.plot(output_data)\n",
    "plt.subplot(2, 1, 2)\n",
    "plt.title('predicted output')\n",
    "plt.plot(pred)\n",
    "plt.tight_layout()\n",
    "plt.show()"
   ]
  },
  {
   "cell_type": "code",
   "execution_count": null,
   "metadata": {},
   "outputs": [],
   "source": []
  }
 ],
 "metadata": {
  "kernelspec": {
   "display_name": "Python 3",
   "language": "python",
   "name": "python3"
  },
  "language_info": {
   "codemirror_mode": {
    "name": "ipython",
    "version": 3
   },
   "file_extension": ".py",
   "mimetype": "text/x-python",
   "name": "python",
   "nbconvert_exporter": "python",
   "pygments_lexer": "ipython3",
   "version": "3.6.7"
  }
 },
 "nbformat": 4,
 "nbformat_minor": 2
}
