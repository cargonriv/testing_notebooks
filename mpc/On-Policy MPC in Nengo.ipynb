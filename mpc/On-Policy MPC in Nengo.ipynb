{
 "cells": [
  {
   "cell_type": "code",
   "execution_count": 1,
   "metadata": {},
   "outputs": [
    {
     "ename": "ImportError",
     "evalue": "cannot import name 'with_metaclass'",
     "output_type": "error",
     "traceback": [
      "\u001b[1;31m---------------------------------------------------------------------------\u001b[0m",
      "\u001b[1;31mImportError\u001b[0m                               Traceback (most recent call last)",
      "\u001b[1;32m<ipython-input-1-ffe6cad849b4>\u001b[0m in \u001b[0;36m<module>\u001b[1;34m()\u001b[0m\n\u001b[0;32m      3\u001b[0m \u001b[1;32mimport\u001b[0m \u001b[0mnumpy\u001b[0m \u001b[1;32mas\u001b[0m \u001b[0mnp\u001b[0m\u001b[1;33m\u001b[0m\u001b[0m\n\u001b[0;32m      4\u001b[0m \u001b[1;32mimport\u001b[0m \u001b[0mnengo\u001b[0m\u001b[1;33m\u001b[0m\u001b[0m\n\u001b[1;32m----> 5\u001b[1;33m \u001b[1;32mimport\u001b[0m \u001b[0mnengolib\u001b[0m\u001b[1;33m\u001b[0m\u001b[0m\n\u001b[0m",
      "\u001b[1;32mc:\\users\\terry\\documents\\github\\nengolib\\nengolib\\__init__.py\u001b[0m in \u001b[0;36m<module>\u001b[1;34m()\u001b[0m\n\u001b[0;32m     56\u001b[0m \u001b[1;33m\u001b[0m\u001b[0m\n\u001b[0;32m     57\u001b[0m \u001b[1;32mfrom\u001b[0m \u001b[1;33m.\u001b[0m \u001b[1;32mimport\u001b[0m \u001b[0mcompat\u001b[0m\u001b[1;33m\u001b[0m\u001b[0m\n\u001b[1;32m---> 58\u001b[1;33m \u001b[1;32mfrom\u001b[0m \u001b[1;33m.\u001b[0m \u001b[1;32mimport\u001b[0m \u001b[0mnetworks\u001b[0m\u001b[1;33m\u001b[0m\u001b[0m\n\u001b[0m\u001b[0;32m     59\u001b[0m \u001b[1;32mfrom\u001b[0m \u001b[1;33m.\u001b[0m \u001b[1;32mimport\u001b[0m \u001b[0mprocesses\u001b[0m  \u001b[1;31m# this is a file, not a module\u001b[0m\u001b[1;33m\u001b[0m\u001b[0m\n\u001b[0;32m     60\u001b[0m \u001b[1;32mfrom\u001b[0m \u001b[1;33m.\u001b[0m \u001b[1;32mimport\u001b[0m \u001b[0msignal\u001b[0m\u001b[1;33m\u001b[0m\u001b[0m\n",
      "\u001b[1;32mc:\\users\\terry\\documents\\github\\nengolib\\nengolib\\networks\\__init__.py\u001b[0m in \u001b[0;36m<module>\u001b[1;34m()\u001b[0m\n\u001b[0;32m     13\u001b[0m \u001b[1;33m\u001b[0m\u001b[0m\n\u001b[0;32m     14\u001b[0m \u001b[1;32mfrom\u001b[0m \u001b[1;33m.\u001b[0m\u001b[0mecho_state\u001b[0m \u001b[1;32mimport\u001b[0m \u001b[1;33m*\u001b[0m\u001b[1;33m\u001b[0m\u001b[0m\n\u001b[1;32m---> 15\u001b[1;33m \u001b[1;32mfrom\u001b[0m \u001b[1;33m.\u001b[0m\u001b[0mlinear_network\u001b[0m \u001b[1;32mimport\u001b[0m \u001b[1;33m*\u001b[0m\u001b[1;33m\u001b[0m\u001b[0m\n\u001b[0m\u001b[0;32m     16\u001b[0m \u001b[1;32mfrom\u001b[0m \u001b[1;33m.\u001b[0m\u001b[0mreservoir\u001b[0m \u001b[1;32mimport\u001b[0m \u001b[1;33m*\u001b[0m\u001b[1;33m\u001b[0m\u001b[0m\n\u001b[0;32m     17\u001b[0m \u001b[1;32mfrom\u001b[0m \u001b[1;33m.\u001b[0m\u001b[0mrolling_window\u001b[0m \u001b[1;32mimport\u001b[0m \u001b[1;33m*\u001b[0m\u001b[1;33m\u001b[0m\u001b[0m\n",
      "\u001b[1;32mc:\\users\\terry\\documents\\github\\nengolib\\nengolib\\networks\\linear_network.py\u001b[0m in \u001b[0;36m<module>\u001b[1;34m()\u001b[0m\n\u001b[0;32m     10\u001b[0m \u001b[1;33m\u001b[0m\u001b[0m\n\u001b[0;32m     11\u001b[0m \u001b[1;32mfrom\u001b[0m \u001b[0mnengolib\u001b[0m\u001b[1;33m.\u001b[0m\u001b[0mnetwork\u001b[0m \u001b[1;32mimport\u001b[0m \u001b[0mNetwork\u001b[0m\u001b[1;33m\u001b[0m\u001b[0m\n\u001b[1;32m---> 12\u001b[1;33m \u001b[1;32mfrom\u001b[0m \u001b[0mnengolib\u001b[0m\u001b[1;33m.\u001b[0m\u001b[0msignal\u001b[0m\u001b[1;33m.\u001b[0m\u001b[0mrealizers\u001b[0m \u001b[1;32mimport\u001b[0m \u001b[0mHankel\u001b[0m\u001b[1;33m\u001b[0m\u001b[0m\n\u001b[0m\u001b[0;32m     13\u001b[0m \u001b[1;32mfrom\u001b[0m \u001b[0mnengolib\u001b[0m\u001b[1;33m.\u001b[0m\u001b[0msignal\u001b[0m\u001b[1;33m.\u001b[0m\u001b[0msystem\u001b[0m \u001b[1;32mimport\u001b[0m \u001b[0mLinearSystem\u001b[0m\u001b[1;33m\u001b[0m\u001b[0m\n\u001b[0;32m     14\u001b[0m \u001b[1;32mfrom\u001b[0m \u001b[0mnengolib\u001b[0m\u001b[1;33m.\u001b[0m\u001b[0msynapses\u001b[0m\u001b[1;33m.\u001b[0m\u001b[0mmapping\u001b[0m \u001b[1;32mimport\u001b[0m \u001b[0mss2sim\u001b[0m\u001b[1;33m\u001b[0m\u001b[0m\n",
      "\u001b[1;32mc:\\users\\terry\\documents\\github\\nengolib\\nengolib\\signal\\__init__.py\u001b[0m in \u001b[0;36m<module>\u001b[1;34m()\u001b[0m\n\u001b[0;32m     78\u001b[0m \"\"\"\n\u001b[0;32m     79\u001b[0m \u001b[1;33m\u001b[0m\u001b[0m\n\u001b[1;32m---> 80\u001b[1;33m \u001b[1;32mfrom\u001b[0m \u001b[1;33m.\u001b[0m\u001b[0mdiscrete\u001b[0m \u001b[1;32mimport\u001b[0m \u001b[1;33m*\u001b[0m\u001b[1;33m\u001b[0m\u001b[0m\n\u001b[0m\u001b[0;32m     81\u001b[0m \u001b[1;32mfrom\u001b[0m \u001b[1;33m.\u001b[0m\u001b[0mdists\u001b[0m \u001b[1;32mimport\u001b[0m \u001b[1;33m*\u001b[0m\u001b[1;33m\u001b[0m\u001b[0m\n\u001b[0;32m     82\u001b[0m \u001b[1;32mfrom\u001b[0m \u001b[1;33m.\u001b[0m\u001b[0mlearning\u001b[0m \u001b[1;32mimport\u001b[0m \u001b[1;33m*\u001b[0m\u001b[1;33m\u001b[0m\u001b[0m\n",
      "\u001b[1;32mc:\\users\\terry\\documents\\github\\nengolib\\nengolib\\signal\\discrete.py\u001b[0m in \u001b[0;36m<module>\u001b[1;34m()\u001b[0m\n\u001b[0;32m      3\u001b[0m \u001b[1;32mfrom\u001b[0m \u001b[0mscipy\u001b[0m\u001b[1;33m.\u001b[0m\u001b[0msignal\u001b[0m \u001b[1;32mimport\u001b[0m \u001b[0mcont2discrete\u001b[0m \u001b[1;32mas\u001b[0m \u001b[0m_cont2discrete\u001b[0m\u001b[1;33m\u001b[0m\u001b[0m\n\u001b[0;32m      4\u001b[0m \u001b[1;33m\u001b[0m\u001b[0m\n\u001b[1;32m----> 5\u001b[1;33m \u001b[1;32mfrom\u001b[0m \u001b[0mnengolib\u001b[0m\u001b[1;33m.\u001b[0m\u001b[0msignal\u001b[0m\u001b[1;33m.\u001b[0m\u001b[0msystem\u001b[0m \u001b[1;32mimport\u001b[0m \u001b[0mLinearSystem\u001b[0m\u001b[1;33m\u001b[0m\u001b[0m\n\u001b[0m\u001b[0;32m      6\u001b[0m \u001b[1;33m\u001b[0m\u001b[0m\n\u001b[0;32m      7\u001b[0m \u001b[0m__all__\u001b[0m \u001b[1;33m=\u001b[0m \u001b[1;33m[\u001b[0m\u001b[1;34m'cont2discrete'\u001b[0m\u001b[1;33m,\u001b[0m \u001b[1;34m'discrete2cont'\u001b[0m\u001b[1;33m]\u001b[0m\u001b[1;33m\u001b[0m\u001b[0m\n",
      "\u001b[1;32mc:\\users\\terry\\documents\\github\\nengolib\\nengolib\\signal\\system.py\u001b[0m in \u001b[0;36m<module>\u001b[1;34m()\u001b[0m\n\u001b[0;32m      8\u001b[0m \u001b[1;33m\u001b[0m\u001b[0m\n\u001b[0;32m      9\u001b[0m \u001b[1;32mfrom\u001b[0m \u001b[0mnengo\u001b[0m\u001b[1;33m.\u001b[0m\u001b[0msynapses\u001b[0m \u001b[1;32mimport\u001b[0m \u001b[0mLinearFilter\u001b[0m\u001b[1;33m\u001b[0m\u001b[0m\n\u001b[1;32m---> 10\u001b[1;33m \u001b[1;32mfrom\u001b[0m \u001b[0mnengo\u001b[0m\u001b[1;33m.\u001b[0m\u001b[0mutils\u001b[0m\u001b[1;33m.\u001b[0m\u001b[0mcompat\u001b[0m \u001b[1;32mimport\u001b[0m \u001b[0mis_integer\u001b[0m\u001b[1;33m,\u001b[0m \u001b[0mis_number\u001b[0m\u001b[1;33m,\u001b[0m \u001b[0mwith_metaclass\u001b[0m\u001b[1;33m\u001b[0m\u001b[0m\n\u001b[0m\u001b[0;32m     11\u001b[0m \u001b[1;33m\u001b[0m\u001b[0m\n\u001b[0;32m     12\u001b[0m __all__ = [\n",
      "\u001b[1;31mImportError\u001b[0m: cannot import name 'with_metaclass'"
     ]
    }
   ],
   "source": [
    "%matplotlib inline\n",
    "import matplotlib.pyplot as plt\n",
    "import numpy as np\n",
    "import nengo\n",
    "import nengolib"
   ]
  },
  {
   "cell_type": "code",
   "execution_count": 4,
   "metadata": {
    "collapsed": true
   },
   "outputs": [],
   "source": [
    "dt = 0.001\n",
    "\n",
    "class System(object):\n",
    "    def __init__(self):\n",
    "        self.value = 0.0\n",
    "    def update(self, x):\n",
    "        self.value -= dt * x * 20\n",
    "        self.value = np.clip(self.value, -1, 1)\n",
    "        return self.value\n",
    "    def make_node(self):\n",
    "        return nengo.Node(lambda t, x: self.update(x), size_in=1, size_out=1)\n",
    "        \n",
    "class Target(object):\n",
    "    def __init__(self):\n",
    "        self.target = 0.5\n",
    "        self.chosen = 0\n",
    "    def update_target(self, x):\n",
    "        self.target = x\n",
    "    def make_target_node(self):\n",
    "        return nengo.Node(lambda t, x: self.update_target(x), size_in=1, size_out=0)\n",
    "    def make_chosen_node(self):\n",
    "        return nengo.Node(lambda t: self.chosen)\n",
    "    \n",
    "target = Target()\n",
    "        \n",
    "sys = System()\n",
    "        \n",
    "N = 3\n",
    "times = np.linspace(0, 0.1, N)\n",
    "#times = [0]\n",
    "model = nengo.Network()\n",
    "with model:\n",
    "    system = sys.make_node()\n",
    "    \n",
    "    targ = target.make_target_node()\n",
    "    #ctrl_target = nengo.Node(lambda t: np.sign(np.sin(t*2*np.pi*2))*0.5)\n",
    "    ctrl_target = nengo.Node(lambda t: np.sin(t*2*np.pi*2)*0.5)\n",
    "    \n",
    "    nengo.Connection(ctrl_target, targ, synapse=None)\n",
    "    choice = target.make_chosen_node()\n",
    "    \n",
    "    predictor = nengo.Ensemble(n_neurons=500, dimensions=2, neuron_type=nengo.LIFRate())\n",
    "    nengo.Connection(system, predictor[0], synapse=0)\n",
    "    \n",
    "    #ctrl = nengo.Node(np.cos)\n",
    "    \n",
    "    nengo.Connection(choice, system, synapse=None)\n",
    "    nengo.Connection(choice, predictor[1], synapse=None)\n",
    "    \n",
    "    future = nengo.Node(None, size_in=len(times))\n",
    "    \n",
    "    \n",
    "    conns = []\n",
    "    probes = []\n",
    "    for i, t in enumerate(times):\n",
    "        def ideal(x, t=t):\n",
    "            return 0\n",
    "            theta = np.arctan2(x[1], x[0])\n",
    "            return np.cos(theta-t)\n",
    "        \n",
    "        c = nengo.Connection(predictor, future[i], function=ideal,\n",
    "                             synapse=None,\n",
    "                             learning_rule_type=nengo.PES(\n",
    "                                                          pre_synapse=t,\n",
    "                                                          #pre_synapse=nengolib.synapses.DiscreteDelay(int(t/dt)),\n",
    "                                                          learning_rate=1e-4))\n",
    "        conns.append(c)\n",
    "        probes.append(nengo.Probe(c, 'weights'))        \n",
    "    \n",
    "    error = nengo.Node(None, size_in=len(times))\n",
    "    nengo.Connection(system, error, transform=-np.ones((len(times), 1)), synapse=None)\n",
    "    for i, t in enumerate(times):\n",
    "        nengo.Connection(future[i], error[i], \n",
    "                         synapse=t\n",
    "                         #synapse=nengolib.synapses.DiscreteDelay(int(t/dt))\n",
    "                        )\n",
    "        nengo.Connection(error[i], conns[i].learning_rule, synapse=None)\n",
    "        \n",
    "        \n",
    "    result = nengo.Node(None, size_in=2)\n",
    "    nengo.Connection(system, result[0], synapse=None)\n",
    "    nengo.Connection(ctrl_target, result[1])\n",
    "    \n",
    "    p_result = nengo.Probe(result)\n",
    "    \n",
    "\n",
    "        #import nengo_learning_display\n",
    "        #plot = nengo_learning_display.Plot1D(c, \n",
    "        #            domain=[(np.cos(t), np.sin(t)) for t in np.linspace(-np.pi, np.pi, 30)], \n",
    "        #            range=(-1.5,1.5))\n",
    "        #plot.label = 'plot predict %g' % t\n",
    "        \n",
    "    \n",
    "def on_step(sim):\n",
    "    #plot.update(sim)\n",
    "    \n",
    "    domain = np.array([[sys.value, x] for x in np.linspace(-1, 1, 20)])\n",
    "    _, a = nengo.utils.ensemble.tuning_curves(predictor, sim, domain)    \n",
    "    \n",
    "    w = np.vstack([sim._probe_outputs[p][-1] for p in probes])\n",
    "    for p in probes:\n",
    "        del sim._probe_outputs[p][:]\n",
    "    y = np.dot(a, w.T)\n",
    "    \n",
    "    loss = np.mean((y - target.target)**2, axis=1)\n",
    "    \n",
    "    index = np.argmin(loss)\n",
    "    target.chosen = domain[index,1]\n",
    "\n",
    "#sim = nengo.Simulator(model)\n",
    "#sim.run(0.1)\n"
   ]
  },
  {
   "cell_type": "code",
   "execution_count": 5,
   "metadata": {},
   "outputs": [
    {
     "name": "stderr",
     "output_type": "stream",
     "text": [
      "c:\\users\\terry\\documents\\github\\nengo_gui\\nengo_gui\\jupyter.py:70: ConfigReuseWarning: Reusing config. Only the most recent visualization will update the config.\n",
      "  \"Reusing config. Only the most recent visualization will \"\n"
     ]
    },
    {
     "data": {
      "text/html": [
       "\n",
       "            <script type=\"text/javascript\" id=\"7b78bb05-ddc7-41bd-9c45-8caf8193f310\">\n",
       "            {\n",
       "                let req = new XMLHttpRequest();\n",
       "                req.addEventListener(\"load\", function() {\n",
       "                    if (this.status != 200 && this.response != 'OK') {\n",
       "                        let p = document.getElementById('7b78bb05-ddc7-41bd-9c45-8caf8193f310').parentNode;\n",
       "                        p.innerHTML +=\n",
       "                            'The nengo_gui.jupyter notebook server ' +\n",
       "                            'extension was not loaded. Please activate it ' +\n",
       "                            'with the following command:' +\n",
       "                            '<pre>jupyter serverextension enable ' +\n",
       "                            'nengo_gui.jupyter</pre>';\n",
       "                        p.classList.add('output_stderr');\n",
       "                    }\n",
       "                });\n",
       "                req.open('GET', './nengo/check', true);\n",
       "                req.send();\n",
       "            }\n",
       "            </script>\n",
       "        "
      ],
      "text/plain": [
       "<IPython.core.display.HTML object>"
      ]
     },
     "metadata": {},
     "output_type": "display_data"
    },
    {
     "data": {
      "application/vdom.v1+json": {
       "attributes": {
        "id": "7f784dfe-cf3a-434a-9603-4f97575034ed"
       },
       "children": [
        {
         "attributes": {
          "allowfullscreen": "allowfullscreen",
          "class": "cell",
          "frameborder": "0",
          "height": "600",
          "src": "./nengo/52064/?token=06f775d64dabe4c4efe3b0592ac4efd737f652718ca33381",
          "style": {
           "border": "1px solid #eee",
           "boxSizing": "border-box"
          },
          "width": "100%"
         },
         "tagName": "iframe"
        }
       ],
       "tagName": "div"
      },
      "text/html": [
       "\n",
       "                <div id=\"e0424844-d21b-461f-a890-1be90cde5503\">\n",
       "                    <iframe\n",
       "                        src=\"./nengo/52064/?token=06f775d64dabe4c4efe3b0592ac4efd737f652718ca33381\"\n",
       "                        width=\"100%\"\n",
       "                        height=\"600\"\n",
       "                        frameborder=\"0\"\n",
       "                        class=\"cell\"\n",
       "                        style=\"border: 1px solid #eee; box-sizing: border-box;\"\n",
       "                        allowfullscreen></iframe>\n",
       "                </div>\n",
       "            "
      ]
     },
     "metadata": {},
     "output_type": "display_data"
    }
   ],
   "source": [
    "import nengo_gui.jupyter\n",
    "nengo_gui.jupyter.InlineGUI(model, cfg='mdp.cfg')"
   ]
  },
  {
   "cell_type": "code",
   "execution_count": null,
   "metadata": {
    "collapsed": true
   },
   "outputs": [],
   "source": []
  }
 ],
 "metadata": {
  "kernelspec": {
   "display_name": "Python 3",
   "language": "python",
   "name": "python3"
  },
  "language_info": {
   "codemirror_mode": {
    "name": "ipython",
    "version": 3
   },
   "file_extension": ".py",
   "mimetype": "text/x-python",
   "name": "python",
   "nbconvert_exporter": "python",
   "pygments_lexer": "ipython3",
   "version": "3.6.1"
  }
 },
 "nbformat": 4,
 "nbformat_minor": 2
}
