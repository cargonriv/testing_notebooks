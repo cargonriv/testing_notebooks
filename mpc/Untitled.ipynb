{
 "cells": [
  {
   "cell_type": "code",
   "execution_count": 2,
   "metadata": {
    "collapsed": true
   },
   "outputs": [],
   "source": [
    "%matplotlib inline\n",
    "import matplotlib.pyplot as plt\n",
    "import numpy as np\n",
    "import nengo"
   ]
  },
  {
   "cell_type": "code",
   "execution_count": 3,
   "metadata": {},
   "outputs": [],
   "source": [
    "class STDE3_wInhibition(object):\n",
    "    def __init__(self, \n",
    "                 w_fac = 1, \n",
    "                 w_trig = 0.1, \n",
    "                 tau_fac1=0.0005,\n",
    "                 tau_fac2=0.0005,\n",
    "                 tau_fac3=0.0005,\n",
    "                 tau_trig=0.005,\n",
    "                 soma_type=nengo.LIF(),\n",
    "                 ):\n",
    "        assert w_fac.shape == w_trig.shape    \n",
    "        N_neurons, N_input = w_fac.shape\n",
    "        self.model = nengo.Network()\n",
    "        with self.model:\n",
    "            \n",
    "            self.input = nengo.Node(None, size_in=N_input)\n",
    "            \n",
    "            self.dendrite1 = nengo.Node(lambda t, x: x[:N_neurons]*x[N_neurons:], size_in=N_neurons*2)\n",
    "            nengo.Connection(self.input, self.dendrite1[:N_neurons], transform=w_fac, synapse=tau_fac1)\n",
    "            nengo.Connection(self.input, self.dendrite1[N_neurons:], transform=w_trig, synapse=None)\n",
    "\n",
    "            \n",
    "            self.dendrite2 = nengo.Node(lambda t, x: x[:N_neurons]*x[N_neurons:], size_in=N_neurons*2)\n",
    "            nengo.Connection(self.input, self.dendrite2[:N_neurons], transform=w_fac, synapse=tau_fac2)\n",
    "            nengo.Connection(self.input, elf.dendrite2[N_neurons:], transform=w_trig, synapse=None)\n",
    "\n",
    "            \n",
    "            self.dendrite3 = nengo.Node(lambda t, x: x[:N_neurons]*x[N_neurons:], size_in=N_neurons*2)\n",
    "            nengo.Connection(self.input, self.dendrite3[:N_neurons], transform=w_fac, synapse=tau_fac3)\n",
    "            nengo.Connection(self.input, self.dendrite3[N_neurons:], transform=w_trig, synapse=None)\n",
    "            \n",
    "            self.neurons = nengo.Ensemble(n_neurons=N_neurons*3, dimensions=1,\n",
    "                                          neuron_type=soma_type, \n",
    "                                          gain=np.ones(N_neurons*3), bias=np.zeros(N_neurons*3))\n",
    "            nengo.Connection(self.dendrite1, self.neurons.neurons[0: N_neurons*3: 3], synapse=tau_trig, transform = 1/10.0)\n",
    "            nengo.Connection(self.dendrite2, self.neurons.neurons[1: N_neurons*3: 3], synapse=tau_trig, transform = 1/10.0)\n",
    "            nengo.Connection(self.dendrite3, self.neurons.neurons[2: N_neurons*3: 3], synapse=tau_trig, transform = 1/10.0)\n",
    "            \n",
    "#             self.inhib = nengo.Ensemble(n_neurons=1, dimensions=1, neuron_type=soma_type, \n",
    "#                                           gain=np.ones(1), bias=np.zeros(1))\n",
    "#             nengo.Connection(self.neurons.neurons, self.inhib.neurons, transform = np.ones((1,N_neurons*3)), synapse=0.005)\n",
    "#             nengo.Connection(self.inhib.neurons, self.neurons.neurons, transform = (-0.05)*np.ones((N_neurons*3, 1)), synapse=0.005)\n",
    "\n",
    "            a = np.ones((N_neurons*3,N_neurons*3))\n",
    "            for i in range(N_neurons*3):\n",
    "                a[i][i] = 0\n",
    "            nengo.Connection(self.neurons.neurons, self.neurons.neurons, transform = (-0.08)*a)\n",
    "\n",
    "            \n",
    "            self.output = nengo.Node(None, size_in=N_neurons*3)\n",
    "            nengo.Connection(self.neurons.neurons, self.output, synapse=None)\n",
    "            \n",
    "    def run(self, input, input_dt=0.001, output_dt=0.001, Simulator=nengo.Simulator, progress_bar=True):\n",
    "        model = nengo.Network()\n",
    "        model.networks.append(self.model)\n",
    "        with model:\n",
    "            stim = nengo.Node(nengo.processes.PresentInput(input, presentation_time=input_dt))\n",
    "            nengo.Connection(stim, self.input, synapse=None)\n",
    "            p = nengo.Probe(self.output, sample_every=output_dt)\n",
    "        sim = Simulator(model, progress_bar=progress_bar, dt=1/100e3)\n",
    "        with sim:\n",
    "            sim.run(len(input)*input_dt)\n",
    "        return sim.data[p]"
   ]
  },
  {
   "cell_type": "code",
   "execution_count": 7,
   "metadata": {},
   "outputs": [
    {
     "name": "stdout",
     "output_type": "stream",
     "text": [
      "Number neurons = 20.  Number inputs = 20\n"
     ]
    },
    {
     "data": {
      "text/html": [
       "\n",
       "            <script type=\"text/javascript\" id=\"9ce6e43c-d3ff-4038-a7cb-848a417833b2\">\n",
       "            {\n",
       "                let req = new XMLHttpRequest();\n",
       "                req.addEventListener(\"load\", function() {\n",
       "                    if (this.status != 200 && this.response != 'OK') {\n",
       "                        let p = document.getElementById('9ce6e43c-d3ff-4038-a7cb-848a417833b2').parentNode;\n",
       "                        p.innerHTML +=\n",
       "                            'The nengo_gui.jupyter notebook server ' +\n",
       "                            'extension was not loaded. Please activate it ' +\n",
       "                            'with the following command:' +\n",
       "                            '<pre>jupyter serverextension enable ' +\n",
       "                            'nengo_gui.jupyter</pre>';\n",
       "                        p.classList.add('output_stderr');\n",
       "                    }\n",
       "                });\n",
       "                req.open('GET', './nengo/check', true);\n",
       "                req.send();\n",
       "            }\n",
       "            </script>\n",
       "        "
      ],
      "text/plain": [
       "<IPython.core.display.HTML object>"
      ]
     },
     "metadata": {},
     "output_type": "display_data"
    },
    {
     "data": {
      "application/vdom.v1+json": {
       "attributes": {
        "id": "f3651479-57a2-40db-a31b-cce6d25be15b"
       },
       "children": [
        {
         "attributes": {
          "allowfullscreen": "allowfullscreen",
          "class": "cell",
          "frameborder": "0",
          "height": "600",
          "src": "./nengo/52525/?token=0cff3ca352d059eb7680e7a911460fd1e6444bda426a8bb2",
          "style": {
           "border": "1px solid #eee",
           "boxSizing": "border-box"
          },
          "width": "100%"
         },
         "tagName": "iframe"
        }
       ],
       "tagName": "div"
      },
      "text/html": [
       "\n",
       "                <div id=\"f1c5a292-9635-4057-92d0-5a8cb13ae04b\">\n",
       "                    <iframe\n",
       "                        src=\"./nengo/52525/?token=0cff3ca352d059eb7680e7a911460fd1e6444bda426a8bb2\"\n",
       "                        width=\"100%\"\n",
       "                        height=\"600\"\n",
       "                        frameborder=\"0\"\n",
       "                        class=\"cell\"\n",
       "                        style=\"border: 1px solid #eee; box-sizing: border-box;\"\n",
       "                        allowfullscreen></iframe>\n",
       "                </div>\n",
       "            "
      ]
     },
     "metadata": {},
     "output_type": "display_data"
    }
   ],
   "source": [
    "w_fac = 1\n",
    "w_trig = 1/10\n",
    "tau_fac = 0.0001\n",
    "tau_trig = 0.005\n",
    "soma_type = nengo.LIF(tau_ref=0.001)\n",
    "\n",
    "number_stdes = 20\n",
    "\n",
    "w_fac = np.diag(np.ones(number_stdes))* w_trig\n",
    "w_trig = np.diag(np.ones(number_stdes))[::-1]* w_trig\n",
    "\n",
    "N_neurons, N_input = w_fac.shape\n",
    "print(\"Number neurons = \" + str(N_neurons) + \".  Number inputs = \" + str(N_input))\n",
    "\n",
    "\n",
    "m = STDE3_wInhibition(w_fac=w_fac, w_trig=w_trig)\n",
    "\n",
    "\n",
    "model = m.model\n",
    "\n",
    "import nengo_gui.jupyter\n",
    "nengo_gui.jupyter.InlineGUI(model)"
   ]
  },
  {
   "cell_type": "code",
   "execution_count": 9,
   "metadata": {},
   "outputs": [
    {
     "data": {
      "text/plain": [
       "array([[0. , 0. , 0. , 0. , 0. , 0. , 0. , 0. , 0. , 0. , 0. , 0. , 0. ,\n",
       "        0. , 0. , 0. , 0. , 0. , 0. , 0.1],\n",
       "       [0. , 0. , 0. , 0. , 0. , 0. , 0. , 0. , 0. , 0. , 0. , 0. , 0. ,\n",
       "        0. , 0. , 0. , 0. , 0. , 0.1, 0. ],\n",
       "       [0. , 0. , 0. , 0. , 0. , 0. , 0. , 0. , 0. , 0. , 0. , 0. , 0. ,\n",
       "        0. , 0. , 0. , 0. , 0.1, 0. , 0. ],\n",
       "       [0. , 0. , 0. , 0. , 0. , 0. , 0. , 0. , 0. , 0. , 0. , 0. , 0. ,\n",
       "        0. , 0. , 0. , 0.1, 0. , 0. , 0. ],\n",
       "       [0. , 0. , 0. , 0. , 0. , 0. , 0. , 0. , 0. , 0. , 0. , 0. , 0. ,\n",
       "        0. , 0. , 0.1, 0. , 0. , 0. , 0. ],\n",
       "       [0. , 0. , 0. , 0. , 0. , 0. , 0. , 0. , 0. , 0. , 0. , 0. , 0. ,\n",
       "        0. , 0.1, 0. , 0. , 0. , 0. , 0. ],\n",
       "       [0. , 0. , 0. , 0. , 0. , 0. , 0. , 0. , 0. , 0. , 0. , 0. , 0. ,\n",
       "        0.1, 0. , 0. , 0. , 0. , 0. , 0. ],\n",
       "       [0. , 0. , 0. , 0. , 0. , 0. , 0. , 0. , 0. , 0. , 0. , 0. , 0.1,\n",
       "        0. , 0. , 0. , 0. , 0. , 0. , 0. ],\n",
       "       [0. , 0. , 0. , 0. , 0. , 0. , 0. , 0. , 0. , 0. , 0. , 0.1, 0. ,\n",
       "        0. , 0. , 0. , 0. , 0. , 0. , 0. ],\n",
       "       [0. , 0. , 0. , 0. , 0. , 0. , 0. , 0. , 0. , 0. , 0.1, 0. , 0. ,\n",
       "        0. , 0. , 0. , 0. , 0. , 0. , 0. ],\n",
       "       [0. , 0. , 0. , 0. , 0. , 0. , 0. , 0. , 0. , 0.1, 0. , 0. , 0. ,\n",
       "        0. , 0. , 0. , 0. , 0. , 0. , 0. ],\n",
       "       [0. , 0. , 0. , 0. , 0. , 0. , 0. , 0. , 0.1, 0. , 0. , 0. , 0. ,\n",
       "        0. , 0. , 0. , 0. , 0. , 0. , 0. ],\n",
       "       [0. , 0. , 0. , 0. , 0. , 0. , 0. , 0.1, 0. , 0. , 0. , 0. , 0. ,\n",
       "        0. , 0. , 0. , 0. , 0. , 0. , 0. ],\n",
       "       [0. , 0. , 0. , 0. , 0. , 0. , 0.1, 0. , 0. , 0. , 0. , 0. , 0. ,\n",
       "        0. , 0. , 0. , 0. , 0. , 0. , 0. ],\n",
       "       [0. , 0. , 0. , 0. , 0. , 0.1, 0. , 0. , 0. , 0. , 0. , 0. , 0. ,\n",
       "        0. , 0. , 0. , 0. , 0. , 0. , 0. ],\n",
       "       [0. , 0. , 0. , 0. , 0.1, 0. , 0. , 0. , 0. , 0. , 0. , 0. , 0. ,\n",
       "        0. , 0. , 0. , 0. , 0. , 0. , 0. ],\n",
       "       [0. , 0. , 0. , 0.1, 0. , 0. , 0. , 0. , 0. , 0. , 0. , 0. , 0. ,\n",
       "        0. , 0. , 0. , 0. , 0. , 0. , 0. ],\n",
       "       [0. , 0. , 0.1, 0. , 0. , 0. , 0. , 0. , 0. , 0. , 0. , 0. , 0. ,\n",
       "        0. , 0. , 0. , 0. , 0. , 0. , 0. ],\n",
       "       [0. , 0.1, 0. , 0. , 0. , 0. , 0. , 0. , 0. , 0. , 0. , 0. , 0. ,\n",
       "        0. , 0. , 0. , 0. , 0. , 0. , 0. ],\n",
       "       [0.1, 0. , 0. , 0. , 0. , 0. , 0. , 0. , 0. , 0. , 0. , 0. , 0. ,\n",
       "        0. , 0. , 0. , 0. , 0. , 0. , 0. ]])"
      ]
     },
     "execution_count": 9,
     "metadata": {},
     "output_type": "execute_result"
    }
   ],
   "source": [
    "w_trig"
   ]
  },
  {
   "cell_type": "code",
   "execution_count": null,
   "metadata": {
    "collapsed": true
   },
   "outputs": [],
   "source": []
  }
 ],
 "metadata": {
  "kernelspec": {
   "display_name": "Python 3",
   "language": "python",
   "name": "python3"
  },
  "language_info": {
   "codemirror_mode": {
    "name": "ipython",
    "version": 3
   },
   "file_extension": ".py",
   "mimetype": "text/x-python",
   "name": "python",
   "nbconvert_exporter": "python",
   "pygments_lexer": "ipython3",
   "version": "3.6.1"
  }
 },
 "nbformat": 4,
 "nbformat_minor": 2
}
