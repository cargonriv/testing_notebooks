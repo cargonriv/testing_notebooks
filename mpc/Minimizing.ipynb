{
 "cells": [
  {
   "cell_type": "code",
   "execution_count": 2,
   "metadata": {},
   "outputs": [],
   "source": [
    "%matplotlib inline\n",
    "import matplotlib.pyplot as plt\n",
    "import numpy as np\n",
    "import nengo"
   ]
  },
  {
   "cell_type": "code",
   "execution_count": 45,
   "metadata": {},
   "outputs": [],
   "source": [
    "model = nengo.Network()\n",
    "with model:\n",
    "    \n",
    "    external = nengo.Node(0.5)\n",
    "    internal = nengo.Ensemble(n_neurons=100, dimensions=1)\n",
    "    \n",
    "    state = nengo.Ensemble(n_neurons=300, dimensions=2)\n",
    "    \n",
    "    #state2 = nengo.Ensemble(n_neurons=300, dimensions=2)\n",
    "    \n",
    "    y = nengo.Ensemble(n_neurons=100, dimensions=1)\n",
    "    \n",
    "    nengo.Connection(external, state[0])\n",
    "    nengo.Connection(internal, state[1])\n",
    "    \n",
    "    nengo.Connection(state, y, function=lambda x: (x[0]-x[1])**2)\n",
    "    \n",
    "    q = nengo.networks.EnsembleArray(n_neurons=100, n_ensembles=2)\n",
    "    error = nengo.networks.EnsembleArray(n_neurons=100, n_ensembles=2)\n",
    "    c_up = nengo.Connection(state, q.input[0], function=lambda x: 0, learning_rule_type=nengo.PES(learning_rate=1e-3))\n",
    "    c_dn = nengo.Connection(state, q.input[1], function=lambda x: 0, learning_rule_type=nengo.PES(learning_rate=1e-3))\n",
    "    inh = -1\n",
    "    \n",
    "    choice = nengo.networks.EnsembleArray(n_neurons=100, n_ensembles=2, encoders=nengo.dists.Choice([[1]]),\n",
    "                                     intercepts=nengo.dists.Uniform(0,1))\n",
    "    nengo.Connection(q.output, choice.input)\n",
    "    nengo.Connection(choice.output, choice.input, transform=[[0,inh],[inh,0]])\n",
    "    nengo.Connection(choice.output[0], error.all_ensembles[1].neurons, transform=-3*np.ones((100, 1)))\n",
    "    nengo.Connection(choice.output[1], error.all_ensembles[0].neurons, transform=-3*np.ones((100, 1)))\n",
    "    nengo.Connection(q.output, error.input)\n",
    "    \n",
    "    dydt = nengo.Node(None, size_in=1)\n",
    "    nengo.Connection(y, dydt, synapse=0.005, transform=-10)\n",
    "    nengo.Connection(y, dydt, synapse=0.050, transform=10)\n",
    "    nengo.Connection(dydt, error.input, transform=-np.ones((2,1)))\n",
    "    nengo.Connection(error.output[0], c_up.learning_rule)\n",
    "    nengo.Connection(error.output[1], c_dn.learning_rule)\n",
    "    \n",
    "    nengo.Connection(internal, internal, synapse=0.1)\n",
    "    nengo.Connection(choice.output, internal, synapse=0.1, transform=[[-0.2,0.2]])\n",
    "    \n",
    "    bias = nengo.Node(0.5)\n",
    "    nengo.Connection(bias, choice.input, transform=np.ones((2,1)))\n",
    "    \n",
    "    \n",
    "    \n",
    "    \n",
    "    \n"
   ]
  },
  {
   "cell_type": "code",
   "execution_count": 46,
   "metadata": {},
   "outputs": [
    {
     "name": "stderr",
     "output_type": "stream",
     "text": [
      "c:\\users\\terry\\documents\\github\\nengo_gui\\nengo_gui\\jupyter.py:70: ConfigReuseWarning: Reusing config. Only the most recent visualization will update the config.\n",
      "  \"Reusing config. Only the most recent visualization will \"\n"
     ]
    },
    {
     "data": {
      "text/html": [
       "\n",
       "            <script type=\"text/javascript\" id=\"5da4975b-c309-4a63-9a5f-3303339627ae\">\n",
       "            {\n",
       "                let req = new XMLHttpRequest();\n",
       "                req.addEventListener(\"load\", function() {\n",
       "                    if (this.status != 200 && this.response != 'OK') {\n",
       "                        let p = document.getElementById('5da4975b-c309-4a63-9a5f-3303339627ae').parentNode;\n",
       "                        p.innerHTML +=\n",
       "                            'The nengo_gui.jupyter notebook server ' +\n",
       "                            'extension was not loaded. Please activate it ' +\n",
       "                            'with the following command:' +\n",
       "                            '<pre>jupyter serverextension enable ' +\n",
       "                            'nengo_gui.jupyter</pre>';\n",
       "                        p.classList.add('output_stderr');\n",
       "                    }\n",
       "                });\n",
       "                req.open('GET', './nengo/check', true);\n",
       "                req.send();\n",
       "            }\n",
       "            </script>\n",
       "        "
      ],
      "text/plain": [
       "<IPython.core.display.HTML object>"
      ]
     },
     "metadata": {},
     "output_type": "display_data"
    },
    {
     "data": {
      "application/vdom.v1+json": {
       "attributes": {
        "id": "4180d897-7eb2-45ef-8207-9431c142735f"
       },
       "children": [
        {
         "attributes": {
          "allowfullscreen": "allowfullscreen",
          "class": "cell",
          "frameborder": "0",
          "height": "600",
          "src": "./nengo/55761/?token=b9ae5ef5528c3f648873e311d3c84ff7d59bde20f0fd4799",
          "style": {
           "border": "1px solid #eee",
           "boxSizing": "border-box"
          },
          "width": "100%"
         },
         "tagName": "iframe"
        }
       ],
       "tagName": "div"
      },
      "text/html": [
       "\n",
       "                <div id=\"2efff1d2-c677-4162-b49a-fe3d41c7253a\">\n",
       "                    <iframe\n",
       "                        src=\"./nengo/55761/?token=b9ae5ef5528c3f648873e311d3c84ff7d59bde20f0fd4799\"\n",
       "                        width=\"100%\"\n",
       "                        height=\"600\"\n",
       "                        frameborder=\"0\"\n",
       "                        class=\"cell\"\n",
       "                        style=\"border: 1px solid #eee; box-sizing: border-box;\"\n",
       "                        allowfullscreen></iframe>\n",
       "                </div>\n",
       "            "
      ]
     },
     "metadata": {},
     "output_type": "display_data"
    }
   ],
   "source": [
    "import nengo_gui.jupyter\n",
    "nengo_gui.jupyter.InlineGUI(model, cfg='minimize.cfg')"
   ]
  },
  {
   "cell_type": "code",
   "execution_count": null,
   "metadata": {
    "collapsed": true
   },
   "outputs": [],
   "source": []
  }
 ],
 "metadata": {
  "kernelspec": {
   "display_name": "Python 3",
   "language": "python",
   "name": "python3"
  },
  "language_info": {
   "codemirror_mode": {
    "name": "ipython",
    "version": 3
   },
   "file_extension": ".py",
   "mimetype": "text/x-python",
   "name": "python",
   "nbconvert_exporter": "python",
   "pygments_lexer": "ipython3",
   "version": "3.6.1"
  }
 },
 "nbformat": 4,
 "nbformat_minor": 2
}
