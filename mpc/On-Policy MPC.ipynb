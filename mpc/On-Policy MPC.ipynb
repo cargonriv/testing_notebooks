{
 "cells": [
  {
   "cell_type": "code",
   "execution_count": 1,
   "metadata": {
    "collapsed": true
   },
   "outputs": [],
   "source": [
    "%matplotlib inline\n",
    "import matplotlib.pyplot as plt\n",
    "import numpy as np\n",
    "import nengo"
   ]
  },
  {
   "cell_type": "code",
   "execution_count": 30,
   "metadata": {},
   "outputs": [],
   "source": [
    "dt = 0.001\n",
    "\n",
    "class System(object):\n",
    "    def __init__(self):\n",
    "        self.value = 0.0\n",
    "    def update(self, x):\n",
    "        self.value += dt * x * 20\n",
    "        if abs(self.value) > 1:\n",
    "            self.value *= 0.99\n",
    "        #self.value = np.clip(self.value, -1, 1)\n",
    "        return self.value\n",
    "    def make_node(self):\n",
    "        return nengo.Node(lambda t, x: self.update(x), size_in=1, size_out=1)\n",
    "        \n",
    "class Target(object):\n",
    "    def __init__(self):\n",
    "        self.target = 0.5\n",
    "        self.chosen = 0\n",
    "    def update_target(self, x):\n",
    "        self.target = x\n",
    "        return x\n",
    "    def make_target_node(self):\n",
    "        return nengo.Node(lambda t, x: self.update_target(x), size_in=1, size_out=1)\n",
    "    def make_chosen_node(self):\n",
    "        return nengo.Node(lambda t: self.chosen)\n",
    "    \n",
    "target = Target()\n",
    "        \n",
    "sys = System()\n",
    "        \n",
    "N = 3\n",
    "times = np.linspace(0, 0.1, N)\n",
    "#times = [0]\n",
    "model = nengo.Network()\n",
    "with model:\n",
    "    system = sys.make_node()\n",
    "    \n",
    "    targ = target.make_target_node()\n",
    "    #ctrl_target = nengo.Node(lambda t: np.sign(np.sin(t*2*np.pi*2))*0.5)\n",
    "    ctrl_target = nengo.Node(lambda t: np.sin(t*2*np.pi*2)*0.5)\n",
    "    \n",
    "    nengo.Connection(ctrl_target, targ, synapse=None)\n",
    "    my_choice = nengo.Node(None, size_in=1)\n",
    "    \n",
    "    predictor = nengo.Ensemble(n_neurons=500, dimensions=2, neuron_type=nengo.LIFRate())\n",
    "    nengo.Connection(system, predictor[0], synapse=0)\n",
    "    \n",
    "    #ctrl = nengo.Node(np.cos)\n",
    "    \n",
    "    nengo.Connection(my_choice, system, synapse=None)\n",
    "    nengo.Connection(my_choice, predictor[1], synapse=None)\n",
    "    \n",
    "    future = nengo.Node(None, size_in=len(times))\n",
    "    \n",
    "    \n",
    "    conns = []\n",
    "    probes = []\n",
    "    for i, t in enumerate(times):\n",
    "        def ideal(x, t=t):\n",
    "            return 0\n",
    "            theta = np.arctan2(x[1], x[0])\n",
    "            return np.cos(theta-t)\n",
    "        \n",
    "        c = nengo.Connection(predictor, future[i], function=ideal,\n",
    "                             synapse=None,\n",
    "                             learning_rule_type=nengo.PES(\n",
    "                                                          pre_synapse=t,\n",
    "                                                          #pre_synapse=nengolib.synapses.DiscreteDelay(int(t/dt)),\n",
    "                                                          learning_rate=1e-4))\n",
    "        conns.append(c)\n",
    "        probes.append(nengo.Probe(c, 'weights'))        \n",
    "    \n",
    "    error = nengo.Node(None, size_in=len(times))\n",
    "    nengo.Connection(system, error, transform=-np.ones((len(times), 1)), synapse=None)\n",
    "    for i, t in enumerate(times):\n",
    "        nengo.Connection(future[i], error[i], \n",
    "                         synapse=t\n",
    "                         #synapse=nengolib.synapses.DiscreteDelay(int(t/dt))\n",
    "                        )\n",
    "        nengo.Connection(error[i], conns[i].learning_rule, synapse=None)\n",
    "        \n",
    "        \n",
    "    result = nengo.Node(None, size_in=2)\n",
    "    nengo.Connection(system, result[0], synapse=None)\n",
    "    nengo.Connection(ctrl_target, result[1])\n",
    "    \n",
    "    loss = nengo.networks.EnsembleArray(n_neurons=100, n_ensembles=len(times))\n",
    "    nengo.Connection(future, loss.input, synapse=None)\n",
    "    nengo.Connection(targ, loss.input, transform=-np.ones((len(times), 1)))\n",
    "    loss_total = loss.add_output('loss', lambda x: x**2)\n",
    "    \n",
    "    y = nengo.Node(None, size_in=1)\n",
    "    nengo.Connection(loss_total, y, transform=np.ones((1,len(times))), synapse=None)\n",
    "    \n",
    "    \n",
    "    q = nengo.networks.EnsembleArray(n_neurons=100, n_ensembles=2)\n",
    "    error = nengo.networks.EnsembleArray(n_neurons=100, n_ensembles=2)\n",
    "    c_up = nengo.Connection(predictor, q.input[0], function=lambda x: 0, learning_rule_type=nengo.PES(learning_rate=1e-3))\n",
    "    c_dn = nengo.Connection(predictor, q.input[1], function=lambda x: 0, learning_rule_type=nengo.PES(learning_rate=1e-3))\n",
    "    inh = -1\n",
    "    \n",
    "    choice = nengo.networks.EnsembleArray(n_neurons=100, n_ensembles=2, encoders=nengo.dists.Choice([[1]]),\n",
    "                                     intercepts=nengo.dists.Uniform(0,1))\n",
    "    nengo.Connection(q.output, choice.input)\n",
    "    nengo.Connection(choice.output, choice.input, transform=[[0,inh],[inh,0]])\n",
    "    nengo.Connection(choice.output[0], error.all_ensembles[1].neurons, transform=-10*np.ones((100, 1)))\n",
    "    nengo.Connection(choice.output[1], error.all_ensembles[0].neurons, transform=-10*np.ones((100, 1)))\n",
    "    nengo.Connection(q.output, error.input)\n",
    "    \n",
    "    dydt = nengo.Node(None, size_in=1)\n",
    "    nengo.Connection(y, dydt, synapse=0.005, transform=-1)\n",
    "    nengo.Connection(y, dydt, synapse=0.050, transform=1)\n",
    "    nengo.Connection(dydt, error.input, transform=-np.ones((2,1)))\n",
    "    nengo.Connection(error.output[0], c_up.learning_rule)\n",
    "    nengo.Connection(error.output[1], c_dn.learning_rule)\n",
    "    \n",
    "    \n",
    "    internal = nengo.Ensemble(n_neurons=500, dimensions=1)\n",
    "    nengo.Connection(internal, internal, synapse=0.1)\n",
    "    nengo.Connection(choice.output, internal, synapse=0.1, transform=[[-1,1]])\n",
    "    nengo.Connection(internal, my_choice, synapse=None)\n",
    "    \n",
    "    bias = nengo.Node(0.5)\n",
    "    nengo.Connection(bias, choice.input, transform=np.ones((2,1)))\n",
    "    \n",
    "    \n"
   ]
  },
  {
   "cell_type": "code",
   "execution_count": 31,
   "metadata": {},
   "outputs": [
    {
     "name": "stderr",
     "output_type": "stream",
     "text": [
      "c:\\users\\terry\\documents\\github\\nengo_gui\\nengo_gui\\jupyter.py:70: ConfigReuseWarning: Reusing config. Only the most recent visualization will update the config.\n",
      "  \"Reusing config. Only the most recent visualization will \"\n"
     ]
    },
    {
     "data": {
      "text/html": [
       "\n",
       "            <script type=\"text/javascript\" id=\"ed27c0d4-c77e-474b-9e54-198c1573af1e\">\n",
       "            {\n",
       "                let req = new XMLHttpRequest();\n",
       "                req.addEventListener(\"load\", function() {\n",
       "                    if (this.status != 200 && this.response != 'OK') {\n",
       "                        let p = document.getElementById('ed27c0d4-c77e-474b-9e54-198c1573af1e').parentNode;\n",
       "                        p.innerHTML +=\n",
       "                            'The nengo_gui.jupyter notebook server ' +\n",
       "                            'extension was not loaded. Please activate it ' +\n",
       "                            'with the following command:' +\n",
       "                            '<pre>jupyter serverextension enable ' +\n",
       "                            'nengo_gui.jupyter</pre>';\n",
       "                        p.classList.add('output_stderr');\n",
       "                    }\n",
       "                });\n",
       "                req.open('GET', './nengo/check', true);\n",
       "                req.send();\n",
       "            }\n",
       "            </script>\n",
       "        "
      ],
      "text/plain": [
       "<IPython.core.display.HTML object>"
      ]
     },
     "metadata": {},
     "output_type": "display_data"
    },
    {
     "data": {
      "application/vdom.v1+json": {
       "attributes": {
        "id": "3604e3d6-fda9-4dfb-a4e3-5098336f28f2"
       },
       "children": [
        {
         "attributes": {
          "allowfullscreen": "allowfullscreen",
          "class": "cell",
          "frameborder": "0",
          "height": "600",
          "src": "./nengo/56661/?token=bb08fd20b14ebe9b05a6edb75d2f9c5e8e32b08f905a9267",
          "style": {
           "border": "1px solid #eee",
           "boxSizing": "border-box"
          },
          "width": "100%"
         },
         "tagName": "iframe"
        }
       ],
       "tagName": "div"
      },
      "text/html": [
       "\n",
       "                <div id=\"9837d656-d834-4376-8e53-26339daa9e30\">\n",
       "                    <iframe\n",
       "                        src=\"./nengo/56661/?token=bb08fd20b14ebe9b05a6edb75d2f9c5e8e32b08f905a9267\"\n",
       "                        width=\"100%\"\n",
       "                        height=\"600\"\n",
       "                        frameborder=\"0\"\n",
       "                        class=\"cell\"\n",
       "                        style=\"border: 1px solid #eee; box-sizing: border-box;\"\n",
       "                        allowfullscreen></iframe>\n",
       "                </div>\n",
       "            "
      ]
     },
     "metadata": {},
     "output_type": "display_data"
    }
   ],
   "source": [
    "import nengo_gui.jupyter\n",
    "nengo_gui.jupyter.InlineGUI(model, cfg='mpc.cfg')"
   ]
  },
  {
   "cell_type": "code",
   "execution_count": null,
   "metadata": {
    "collapsed": true
   },
   "outputs": [],
   "source": []
  }
 ],
 "metadata": {
  "kernelspec": {
   "display_name": "Python 3",
   "language": "python",
   "name": "python3"
  },
  "language_info": {
   "codemirror_mode": {
    "name": "ipython",
    "version": 3
   },
   "file_extension": ".py",
   "mimetype": "text/x-python",
   "name": "python",
   "nbconvert_exporter": "python",
   "pygments_lexer": "ipython3",
   "version": "3.6.1"
  }
 },
 "nbformat": 4,
 "nbformat_minor": 2
}
